{
  "cells": [
    {
      "cell_type": "code",
      "execution_count": 2,
      "metadata": {},
      "outputs": [],
      "source": [
        "# !pip install openpyxl"
      ]
    },
    {
      "cell_type": "markdown",
      "metadata": {
        "id": "E5C1gCwyLST2"
      },
      "source": [
        "# Imports"
      ]
    },
    {
      "cell_type": "code",
      "execution_count": 3,
      "metadata": {
        "id": "S-bllCoNLUTG"
      },
      "outputs": [],
      "source": [
        "import pandas as pd\n",
        "import openpyxl "
      ]
    },
    {
      "cell_type": "markdown",
      "metadata": {
        "id": "cTFVdQkoLWbG"
      },
      "source": [
        "# Data"
      ]
    },
    {
      "cell_type": "code",
      "execution_count": 4,
      "metadata": {
        "id": "XiDMPGnWLXJm"
      },
      "outputs": [],
      "source": [
        "dir_path = \"C:/Users/CPL17/OneDrive/Desktop/\"\n",
        "full_path = dir_path + \"PA Wildflower Database.xlsx\""
      ]
    },
    {
      "cell_type": "code",
      "execution_count": 5,
      "metadata": {
        "id": "h2FD3g7rLeLm"
      },
      "outputs": [],
      "source": [
        "article_long = pd.read_excel(full_path,sheet_name=\"ARTICLE\")\n"
      ]
    },
    {
      "cell_type": "code",
      "execution_count": 6,
      "metadata": {},
      "outputs": [],
      "source": [
        "metadata= pd.read_excel(full_path,sheet_name=\"ERA_PA\")"
      ]
    },
    {
      "cell_type": "code",
      "execution_count": 7,
      "metadata": {
        "colab": {
          "base_uri": "https://localhost:8080/"
        },
        "id": "ryGQ8AtJNhfF",
        "outputId": "fcc642ce-6155-41d0-e0bc-02d4e6ea42e5"
      },
      "outputs": [
        {
          "data": {
            "text/plain": [
              "(698, 11)"
            ]
          },
          "execution_count": 7,
          "metadata": {},
          "output_type": "execute_result"
        }
      ],
      "source": [
        "article_long.shape"
      ]
    },
    {
      "cell_type": "code",
      "execution_count": 8,
      "metadata": {
        "colab": {
          "base_uri": "https://localhost:8080/",
          "height": 206
        },
        "id": "xlHamZ4xMdNR",
        "outputId": "775fa147-b5d0-4bac-8387-314b17fc26ca"
      },
      "outputs": [
        {
          "data": {
            "text/html": [
              "<div>\n",
              "<style scoped>\n",
              "    .dataframe tbody tr th:only-of-type {\n",
              "        vertical-align: middle;\n",
              "    }\n",
              "\n",
              "    .dataframe tbody tr th {\n",
              "        vertical-align: top;\n",
              "    }\n",
              "\n",
              "    .dataframe thead th {\n",
              "        text-align: right;\n",
              "    }\n",
              "</style>\n",
              "<table border=\"1\" class=\"dataframe\">\n",
              "  <thead>\n",
              "    <tr style=\"text-align: right;\">\n",
              "      <th></th>\n",
              "      <th>USDA Symbol</th>\n",
              "      <th>Source</th>\n",
              "      <th>Source URL</th>\n",
              "      <th>Common Plant</th>\n",
              "      <th>Scientific</th>\n",
              "      <th>QA</th>\n",
              "      <th>Unnamed: 6</th>\n",
              "      <th>Unnamed: 7</th>\n",
              "      <th>Unnamed: 8</th>\n",
              "      <th>Unnamed: 9</th>\n",
              "      <th>Unnamed: 10</th>\n",
              "    </tr>\n",
              "  </thead>\n",
              "  <tbody>\n",
              "    <tr>\n",
              "      <th>0</th>\n",
              "      <td>MODI</td>\n",
              "      <td>Audobon Birdy Dozen 2022</td>\n",
              "      <td>https://pa.audubon.org/sites/default/files/bir...</td>\n",
              "      <td>Scarlet Beebalm</td>\n",
              "      <td>Monarda didyma</td>\n",
              "      <td>1.0</td>\n",
              "      <td>NaN</td>\n",
              "      <td>NaN</td>\n",
              "      <td>NaN</td>\n",
              "      <td>NaN</td>\n",
              "      <td>NaN</td>\n",
              "    </tr>\n",
              "    <tr>\n",
              "      <th>1</th>\n",
              "      <td>LISP</td>\n",
              "      <td>Audobon Birdy Dozen 2022</td>\n",
              "      <td>https://pa.audubon.org/sites/default/files/bir...</td>\n",
              "      <td>Dense Blazing Star</td>\n",
              "      <td>Liatris spicata</td>\n",
              "      <td>1.0</td>\n",
              "      <td>NaN</td>\n",
              "      <td>NaN</td>\n",
              "      <td>NaN</td>\n",
              "      <td>NaN</td>\n",
              "      <td>NaN</td>\n",
              "    </tr>\n",
              "    <tr>\n",
              "      <th>2</th>\n",
              "      <td>LOSI</td>\n",
              "      <td>Audobon Birdy Dozen 2022</td>\n",
              "      <td>https://pa.audubon.org/sites/default/files/bir...</td>\n",
              "      <td>Great Blue Lobelia</td>\n",
              "      <td>Lobelia siphilitica</td>\n",
              "      <td>1.0</td>\n",
              "      <td>NaN</td>\n",
              "      <td>NaN</td>\n",
              "      <td>NaN</td>\n",
              "      <td>NaN</td>\n",
              "      <td>NaN</td>\n",
              "    </tr>\n",
              "    <tr>\n",
              "      <th>3</th>\n",
              "      <td>IRCR</td>\n",
              "      <td>Audobon Birdy Dozen 2022</td>\n",
              "      <td>https://pa.audubon.org/sites/default/files/bir...</td>\n",
              "      <td>Dwarf Crested Iris</td>\n",
              "      <td>Iris cristata</td>\n",
              "      <td>1.0</td>\n",
              "      <td>NaN</td>\n",
              "      <td>NaN</td>\n",
              "      <td>NaN</td>\n",
              "      <td>NaN</td>\n",
              "      <td>NaN</td>\n",
              "    </tr>\n",
              "    <tr>\n",
              "      <th>4</th>\n",
              "      <td>CHVI5</td>\n",
              "      <td>Audobon Birdy Dozen 2022</td>\n",
              "      <td>https://pa.audubon.org/sites/default/files/bir...</td>\n",
              "      <td>Green And Gold</td>\n",
              "      <td>Chrysogonum virginianum</td>\n",
              "      <td>1.0</td>\n",
              "      <td>NaN</td>\n",
              "      <td>NaN</td>\n",
              "      <td>NaN</td>\n",
              "      <td>NaN</td>\n",
              "      <td>NaN</td>\n",
              "    </tr>\n",
              "  </tbody>\n",
              "</table>\n",
              "</div>"
            ],
            "text/plain": [
              "  USDA Symbol                    Source  \\\n",
              "0        MODI  Audobon Birdy Dozen 2022   \n",
              "1        LISP  Audobon Birdy Dozen 2022   \n",
              "2        LOSI  Audobon Birdy Dozen 2022   \n",
              "3        IRCR  Audobon Birdy Dozen 2022   \n",
              "4       CHVI5  Audobon Birdy Dozen 2022   \n",
              "\n",
              "                                          Source URL        Common Plant  \\\n",
              "0  https://pa.audubon.org/sites/default/files/bir...     Scarlet Beebalm   \n",
              "1  https://pa.audubon.org/sites/default/files/bir...  Dense Blazing Star   \n",
              "2  https://pa.audubon.org/sites/default/files/bir...  Great Blue Lobelia   \n",
              "3  https://pa.audubon.org/sites/default/files/bir...  Dwarf Crested Iris   \n",
              "4  https://pa.audubon.org/sites/default/files/bir...      Green And Gold   \n",
              "\n",
              "                Scientific   QA Unnamed: 6 Unnamed: 7 Unnamed: 8 Unnamed: 9  \\\n",
              "0           Monarda didyma  1.0        NaN        NaN        NaN        NaN   \n",
              "1          Liatris spicata  1.0        NaN        NaN        NaN        NaN   \n",
              "2      Lobelia siphilitica  1.0        NaN        NaN        NaN        NaN   \n",
              "3            Iris cristata  1.0        NaN        NaN        NaN        NaN   \n",
              "4  Chrysogonum virginianum  1.0        NaN        NaN        NaN        NaN   \n",
              "\n",
              "   Unnamed: 10  \n",
              "0          NaN  \n",
              "1          NaN  \n",
              "2          NaN  \n",
              "3          NaN  \n",
              "4          NaN  "
            ]
          },
          "execution_count": 8,
          "metadata": {},
          "output_type": "execute_result"
        }
      ],
      "source": [
        "article_long.head()"
      ]
    },
    {
      "cell_type": "code",
      "execution_count": 9,
      "metadata": {
        "colab": {
          "base_uri": "https://localhost:8080/"
        },
        "id": "flftTnxgMfqn",
        "outputId": "94d20632-4b15-46bf-80cb-1b99f9751f92"
      },
      "outputs": [
        {
          "data": {
            "text/plain": [
              "Plants for Birds                                          107\n",
              "Salt Tolerant Plants                                       93\n",
              "Deer Resistant                                             75\n",
              "PA Rare, Threatened, Endangered, and Extirpated Plants     52\n",
              "Rain Gardens                                               51\n",
              "Witchcraft Plants                                          48\n",
              "Under Black Walnut Trees                                   42\n",
              "Suggested Hedgrow Plants                                   39\n",
              "Slopes and Hills                                           25\n",
              "Native Plants for Alkaline sites                           24\n",
              "Native Plants for Septic or Sand Mounds                    22\n",
              "Tried & True                                               21\n",
              "Edible Plants                                              19\n",
              "Butterfly Basics                                           13\n",
              "Audobon Birdy Dozen 2022                                   12\n",
              "Groundcovers                                               10\n",
              "Woodland Mix (short)                                        9\n",
              "Woodland Mix (tall)                                         8\n",
              "Rock Garden                                                 7\n",
              "Grass Meadow                                                7\n",
              "Wet Sites (edge of run-off streams or ponds)                6\n",
              "Small Grasses - Meadow Like                                 4\n",
              "Very Tall Perennials                                        4\n",
              "Name: Source, dtype: int64"
            ]
          },
          "execution_count": 9,
          "metadata": {},
          "output_type": "execute_result"
        }
      ],
      "source": [
        "article_long[\"Source\"].value_counts()"
      ]
    },
    {
      "cell_type": "code",
      "execution_count": 10,
      "metadata": {
        "colab": {
          "base_uri": "https://localhost:8080/"
        },
        "id": "0K6qu92UMmZn",
        "outputId": "1ceaa601-30b9-4049-bd46-2827135be390"
      },
      "outputs": [
        {
          "data": {
            "text/plain": [
              "SYNO2    8\n",
              "RHCA4    1\n",
              "Name: USDA Symbol, dtype: int64"
            ]
          },
          "execution_count": 10,
          "metadata": {},
          "output_type": "execute_result"
        }
      ],
      "source": [
        "article_long[\"USDA Symbol\"].value_counts().iloc[[0,-1]]"
      ]
    },
    {
      "cell_type": "code",
      "execution_count": 11,
      "metadata": {},
      "outputs": [],
      "source": [
        "#Drop Missing\n",
        "\n",
        "article_long.dropna(subset=[\"USDA Symbol\"],inplace=True)"
      ]
    },
    {
      "cell_type": "markdown",
      "metadata": {},
      "source": [
        "# Aggregations"
      ]
    },
    {
      "cell_type": "code",
      "execution_count": 12,
      "metadata": {
        "id": "o658WM4uNmMH"
      },
      "outputs": [],
      "source": [
        "f = lambda x: ', '.join(x)\n",
        "article_agg = article_long.groupby(\"USDA Symbol\").agg({\"Source\":list,\"Source URL\":list})"
      ]
    },
    {
      "cell_type": "code",
      "execution_count": 13,
      "metadata": {},
      "outputs": [
        {
          "data": {
            "text/html": [
              "<div>\n",
              "<style scoped>\n",
              "    .dataframe tbody tr th:only-of-type {\n",
              "        vertical-align: middle;\n",
              "    }\n",
              "\n",
              "    .dataframe tbody tr th {\n",
              "        vertical-align: top;\n",
              "    }\n",
              "\n",
              "    .dataframe thead th {\n",
              "        text-align: right;\n",
              "    }\n",
              "</style>\n",
              "<table border=\"1\" class=\"dataframe\">\n",
              "  <thead>\n",
              "    <tr style=\"text-align: right;\">\n",
              "      <th></th>\n",
              "      <th>Source</th>\n",
              "      <th>Source URL</th>\n",
              "    </tr>\n",
              "    <tr>\n",
              "      <th>USDA Symbol</th>\n",
              "      <th></th>\n",
              "      <th></th>\n",
              "    </tr>\n",
              "  </thead>\n",
              "  <tbody>\n",
              "    <tr>\n",
              "      <th>ACAM</th>\n",
              "      <td>[Witchcraft Plants]</td>\n",
              "      <td>[https://www.google.com/search?q=ACAM+Witchcra...</td>\n",
              "    </tr>\n",
              "    <tr>\n",
              "      <th>ACMI2</th>\n",
              "      <td>[Witchcraft Plants]</td>\n",
              "      <td>[https://www.google.com/search?q=ACMI2+Witchcr...</td>\n",
              "    </tr>\n",
              "    <tr>\n",
              "      <th>ACNE2</th>\n",
              "      <td>[Salt Tolerant Plants]</td>\n",
              "      <td>[https://edgeofthewoodsnursery.com/wp-content/...</td>\n",
              "    </tr>\n",
              "    <tr>\n",
              "      <th>ACPE</th>\n",
              "      <td>[Plants for Birds]</td>\n",
              "      <td>[https://edgeofthewoodsnursery.com/wp-content/...</td>\n",
              "    </tr>\n",
              "    <tr>\n",
              "      <th>ACRA7</th>\n",
              "      <td>[Tried &amp; True, Woodland Mix (tall)]</td>\n",
              "      <td>[https://bhwp.org/grow/garden-with-natives/get...</td>\n",
              "    </tr>\n",
              "  </tbody>\n",
              "</table>\n",
              "</div>"
            ],
            "text/plain": [
              "                                          Source  \\\n",
              "USDA Symbol                                        \n",
              "ACAM                         [Witchcraft Plants]   \n",
              "ACMI2                        [Witchcraft Plants]   \n",
              "ACNE2                     [Salt Tolerant Plants]   \n",
              "ACPE                          [Plants for Birds]   \n",
              "ACRA7        [Tried & True, Woodland Mix (tall)]   \n",
              "\n",
              "                                                    Source URL  \n",
              "USDA Symbol                                                     \n",
              "ACAM         [https://www.google.com/search?q=ACAM+Witchcra...  \n",
              "ACMI2        [https://www.google.com/search?q=ACMI2+Witchcr...  \n",
              "ACNE2        [https://edgeofthewoodsnursery.com/wp-content/...  \n",
              "ACPE         [https://edgeofthewoodsnursery.com/wp-content/...  \n",
              "ACRA7        [https://bhwp.org/grow/garden-with-natives/get...  "
            ]
          },
          "execution_count": 13,
          "metadata": {},
          "output_type": "execute_result"
        }
      ],
      "source": [
        "article_agg.head()"
      ]
    },
    {
      "cell_type": "code",
      "execution_count": 14,
      "metadata": {},
      "outputs": [
        {
          "data": {
            "text/html": [
              "<div>\n",
              "<style scoped>\n",
              "    .dataframe tbody tr th:only-of-type {\n",
              "        vertical-align: middle;\n",
              "    }\n",
              "\n",
              "    .dataframe tbody tr th {\n",
              "        vertical-align: top;\n",
              "    }\n",
              "\n",
              "    .dataframe thead th {\n",
              "        text-align: right;\n",
              "    }\n",
              "</style>\n",
              "<table border=\"1\" class=\"dataframe\">\n",
              "  <thead>\n",
              "    <tr style=\"text-align: right;\">\n",
              "      <th></th>\n",
              "      <th>USDA Symbol</th>\n",
              "      <th>Source</th>\n",
              "      <th>Source URL</th>\n",
              "      <th>Count</th>\n",
              "    </tr>\n",
              "  </thead>\n",
              "  <tbody>\n",
              "    <tr>\n",
              "      <th>0</th>\n",
              "      <td>ACAM</td>\n",
              "      <td>Witchcraft Plants</td>\n",
              "      <td>https://www.google.com/search?q=ACAM+Witchcraf...</td>\n",
              "      <td>1</td>\n",
              "    </tr>\n",
              "    <tr>\n",
              "      <th>1</th>\n",
              "      <td>ACMI2</td>\n",
              "      <td>Witchcraft Plants</td>\n",
              "      <td>https://www.google.com/search?q=ACMI2+Witchcra...</td>\n",
              "      <td>1</td>\n",
              "    </tr>\n",
              "    <tr>\n",
              "      <th>2</th>\n",
              "      <td>ACNE2</td>\n",
              "      <td>Salt Tolerant Plants</td>\n",
              "      <td>https://edgeofthewoodsnursery.com/wp-content/u...</td>\n",
              "      <td>1</td>\n",
              "    </tr>\n",
              "    <tr>\n",
              "      <th>3</th>\n",
              "      <td>ACPE</td>\n",
              "      <td>Plants for Birds</td>\n",
              "      <td>https://edgeofthewoodsnursery.com/wp-content/u...</td>\n",
              "      <td>1</td>\n",
              "    </tr>\n",
              "    <tr>\n",
              "      <th>4</th>\n",
              "      <td>ACRA7</td>\n",
              "      <td>Tried &amp; True, Woodland Mix (tall)</td>\n",
              "      <td>https://bhwp.org/grow/garden-with-natives/get-...</td>\n",
              "      <td>2</td>\n",
              "    </tr>\n",
              "  </tbody>\n",
              "</table>\n",
              "</div>"
            ],
            "text/plain": [
              "  USDA Symbol                             Source  \\\n",
              "0        ACAM                  Witchcraft Plants   \n",
              "1       ACMI2                  Witchcraft Plants   \n",
              "2       ACNE2               Salt Tolerant Plants   \n",
              "3        ACPE                   Plants for Birds   \n",
              "4       ACRA7  Tried & True, Woodland Mix (tall)   \n",
              "\n",
              "                                          Source URL  Count  \n",
              "0  https://www.google.com/search?q=ACAM+Witchcraf...      1  \n",
              "1  https://www.google.com/search?q=ACMI2+Witchcra...      1  \n",
              "2  https://edgeofthewoodsnursery.com/wp-content/u...      1  \n",
              "3  https://edgeofthewoodsnursery.com/wp-content/u...      1  \n",
              "4  https://bhwp.org/grow/garden-with-natives/get-...      2  "
            ]
          },
          "execution_count": 14,
          "metadata": {},
          "output_type": "execute_result"
        }
      ],
      "source": [
        "article_agg.reset_index(inplace=True)\n",
        "article_agg.columns = [\"USDA Symbol\",\"Source\",\"Source URL\"]\n",
        "article_agg[\"Count\"] = article_agg.Source.apply(lambda x: len(x))\n",
        "\n",
        "# f = lambda x: ', '.join(map(str, set(x)))\n",
        "\n",
        "for column in [\"Source\",\"Source URL\"]:\n",
        "    article_agg[column] = article_agg[column].apply(lambda x: \", \".join(x))\n",
        "\n",
        "article_agg.head()"
      ]
    },
    {
      "cell_type": "code",
      "execution_count": 15,
      "metadata": {},
      "outputs": [
        {
          "data": {
            "text/plain": [
              "0"
            ]
          },
          "execution_count": 15,
          "metadata": {},
          "output_type": "execute_result"
        }
      ],
      "source": [
        "(article_agg[\"USDA Symbol\"].value_counts() != 1).sum() #Ensure Properly Aggregate"
      ]
    },
    {
      "cell_type": "code",
      "execution_count": 16,
      "metadata": {},
      "outputs": [
        {
          "data": {
            "text/html": [
              "<div>\n",
              "<style scoped>\n",
              "    .dataframe tbody tr th:only-of-type {\n",
              "        vertical-align: middle;\n",
              "    }\n",
              "\n",
              "    .dataframe tbody tr th {\n",
              "        vertical-align: top;\n",
              "    }\n",
              "\n",
              "    .dataframe thead th {\n",
              "        text-align: right;\n",
              "    }\n",
              "</style>\n",
              "<table border=\"1\" class=\"dataframe\">\n",
              "  <thead>\n",
              "    <tr style=\"text-align: right;\">\n",
              "      <th></th>\n",
              "      <th>USDA Symbol</th>\n",
              "      <th>Source</th>\n",
              "      <th>Source URL</th>\n",
              "      <th>Count</th>\n",
              "    </tr>\n",
              "  </thead>\n",
              "  <tbody>\n",
              "    <tr>\n",
              "      <th>0</th>\n",
              "      <td>ACAM</td>\n",
              "      <td>Witchcraft Plants</td>\n",
              "      <td>https://www.google.com/search?q=ACAM+Witchcraf...</td>\n",
              "      <td>1</td>\n",
              "    </tr>\n",
              "    <tr>\n",
              "      <th>306</th>\n",
              "      <td>SYNO2</td>\n",
              "      <td>Under Black Walnut Trees, Tried &amp; True, Butter...</td>\n",
              "      <td>http://www.ecosystemgardening.com/what-to-plan...</td>\n",
              "      <td>8</td>\n",
              "    </tr>\n",
              "  </tbody>\n",
              "</table>\n",
              "</div>"
            ],
            "text/plain": [
              "    USDA Symbol                                             Source  \\\n",
              "0          ACAM                                  Witchcraft Plants   \n",
              "306       SYNO2  Under Black Walnut Trees, Tried & True, Butter...   \n",
              "\n",
              "                                            Source URL  Count  \n",
              "0    https://www.google.com/search?q=ACAM+Witchcraf...      1  \n",
              "306  http://www.ecosystemgardening.com/what-to-plan...      8  "
            ]
          },
          "execution_count": 16,
          "metadata": {},
          "output_type": "execute_result"
        }
      ],
      "source": [
        "article_agg.sort_values(by=\"Count\").iloc[[0,-1]]"
      ]
    },
    {
      "cell_type": "markdown",
      "metadata": {},
      "source": [
        "# Join with metdata"
      ]
    },
    {
      "cell_type": "code",
      "execution_count": 17,
      "metadata": {},
      "outputs": [],
      "source": [
        "metadata = metadata[[\"USDA Symbol\",\"Scientific Name\",\"Common Name\"]]\n",
        "metadata.columns = [\"USDA Symbol\",\"Scientific Name\",\"Common Name\"]"
      ]
    },
    {
      "cell_type": "code",
      "execution_count": 18,
      "metadata": {},
      "outputs": [
        {
          "data": {
            "text/html": [
              "<div>\n",
              "<style scoped>\n",
              "    .dataframe tbody tr th:only-of-type {\n",
              "        vertical-align: middle;\n",
              "    }\n",
              "\n",
              "    .dataframe tbody tr th {\n",
              "        vertical-align: top;\n",
              "    }\n",
              "\n",
              "    .dataframe thead th {\n",
              "        text-align: right;\n",
              "    }\n",
              "</style>\n",
              "<table border=\"1\" class=\"dataframe\">\n",
              "  <thead>\n",
              "    <tr style=\"text-align: right;\">\n",
              "      <th></th>\n",
              "      <th>USDA Symbol</th>\n",
              "      <th>Scientific Name</th>\n",
              "      <th>Common Name</th>\n",
              "    </tr>\n",
              "  </thead>\n",
              "  <tbody>\n",
              "    <tr>\n",
              "      <th>0</th>\n",
              "      <td>ABBA</td>\n",
              "      <td>Abies balsamea</td>\n",
              "      <td>Balsam Fir</td>\n",
              "    </tr>\n",
              "    <tr>\n",
              "      <th>1</th>\n",
              "      <td>ACNE2</td>\n",
              "      <td>Acer negundo</td>\n",
              "      <td>Boxelder</td>\n",
              "    </tr>\n",
              "    <tr>\n",
              "      <th>2</th>\n",
              "      <td>ACPE</td>\n",
              "      <td>Acer pensylvanicum</td>\n",
              "      <td>Striped Maple</td>\n",
              "    </tr>\n",
              "  </tbody>\n",
              "</table>\n",
              "</div>"
            ],
            "text/plain": [
              "  USDA Symbol     Scientific Name    Common Name\n",
              "0        ABBA      Abies balsamea     Balsam Fir\n",
              "1       ACNE2        Acer negundo       Boxelder\n",
              "2        ACPE  Acer pensylvanicum  Striped Maple"
            ]
          },
          "execution_count": 18,
          "metadata": {},
          "output_type": "execute_result"
        }
      ],
      "source": [
        "metadata.head(3)"
      ]
    },
    {
      "cell_type": "code",
      "execution_count": 19,
      "metadata": {},
      "outputs": [
        {
          "data": {
            "text/html": [
              "<div>\n",
              "<style scoped>\n",
              "    .dataframe tbody tr th:only-of-type {\n",
              "        vertical-align: middle;\n",
              "    }\n",
              "\n",
              "    .dataframe tbody tr th {\n",
              "        vertical-align: top;\n",
              "    }\n",
              "\n",
              "    .dataframe thead th {\n",
              "        text-align: right;\n",
              "    }\n",
              "</style>\n",
              "<table border=\"1\" class=\"dataframe\">\n",
              "  <thead>\n",
              "    <tr style=\"text-align: right;\">\n",
              "      <th></th>\n",
              "      <th>USDA Symbol</th>\n",
              "      <th>Source</th>\n",
              "      <th>Source URL</th>\n",
              "      <th>Count</th>\n",
              "      <th>Scientific Name</th>\n",
              "      <th>Common Name</th>\n",
              "    </tr>\n",
              "  </thead>\n",
              "  <tbody>\n",
              "    <tr>\n",
              "      <th>0</th>\n",
              "      <td>ACAM</td>\n",
              "      <td>Witchcraft Plants</td>\n",
              "      <td>https://www.google.com/search?q=ACAM+Witchcraf...</td>\n",
              "      <td>1</td>\n",
              "      <td>Acorus americanus</td>\n",
              "      <td>Sweetflag</td>\n",
              "    </tr>\n",
              "    <tr>\n",
              "      <th>1</th>\n",
              "      <td>ACMI2</td>\n",
              "      <td>Witchcraft Plants</td>\n",
              "      <td>https://www.google.com/search?q=ACMI2+Witchcra...</td>\n",
              "      <td>1</td>\n",
              "      <td>Achillea millefolium</td>\n",
              "      <td>Common Yarrow</td>\n",
              "    </tr>\n",
              "    <tr>\n",
              "      <th>2</th>\n",
              "      <td>ACNE2</td>\n",
              "      <td>Salt Tolerant Plants</td>\n",
              "      <td>https://edgeofthewoodsnursery.com/wp-content/u...</td>\n",
              "      <td>1</td>\n",
              "      <td>Acer negundo</td>\n",
              "      <td>Boxelder</td>\n",
              "    </tr>\n",
              "    <tr>\n",
              "      <th>3</th>\n",
              "      <td>ACPE</td>\n",
              "      <td>Plants for Birds</td>\n",
              "      <td>https://edgeofthewoodsnursery.com/wp-content/u...</td>\n",
              "      <td>1</td>\n",
              "      <td>Acer pensylvanicum</td>\n",
              "      <td>Striped Maple</td>\n",
              "    </tr>\n",
              "    <tr>\n",
              "      <th>4</th>\n",
              "      <td>ACRA7</td>\n",
              "      <td>Tried &amp; True, Woodland Mix (tall)</td>\n",
              "      <td>https://bhwp.org/grow/garden-with-natives/get-...</td>\n",
              "      <td>2</td>\n",
              "      <td>Actaea racemosa</td>\n",
              "      <td>Black Baneberry</td>\n",
              "    </tr>\n",
              "  </tbody>\n",
              "</table>\n",
              "</div>"
            ],
            "text/plain": [
              "  USDA Symbol                             Source  \\\n",
              "0        ACAM                  Witchcraft Plants   \n",
              "1       ACMI2                  Witchcraft Plants   \n",
              "2       ACNE2               Salt Tolerant Plants   \n",
              "3        ACPE                   Plants for Birds   \n",
              "4       ACRA7  Tried & True, Woodland Mix (tall)   \n",
              "\n",
              "                                          Source URL  Count  \\\n",
              "0  https://www.google.com/search?q=ACAM+Witchcraf...      1   \n",
              "1  https://www.google.com/search?q=ACMI2+Witchcra...      1   \n",
              "2  https://edgeofthewoodsnursery.com/wp-content/u...      1   \n",
              "3  https://edgeofthewoodsnursery.com/wp-content/u...      1   \n",
              "4  https://bhwp.org/grow/garden-with-natives/get-...      2   \n",
              "\n",
              "        Scientific Name      Common Name  \n",
              "0     Acorus americanus        Sweetflag  \n",
              "1  Achillea millefolium    Common Yarrow  \n",
              "2          Acer negundo         Boxelder  \n",
              "3    Acer pensylvanicum    Striped Maple  \n",
              "4       Actaea racemosa  Black Baneberry  "
            ]
          },
          "execution_count": 19,
          "metadata": {},
          "output_type": "execute_result"
        }
      ],
      "source": [
        "final = article_agg.merge(metadata,on=\"USDA Symbol\",how=\"left\")\n",
        "final.head()"
      ]
    },
    {
      "cell_type": "code",
      "execution_count": 20,
      "metadata": {},
      "outputs": [
        {
          "data": {
            "text/plain": [
              "{'CAPL5', 'MECO', 'SPMA3', 'STDI3', 'ceca4', 'frvi', 'ruoc', 'viopa2'}"
            ]
          },
          "execution_count": 20,
          "metadata": {},
          "output_type": "execute_result"
        }
      ],
      "source": [
        "missing_symbols = set(article_agg[\"USDA Symbol\"]).difference(set(metadata[\"USDA Symbol\"]))\n",
        "missing_symbols"
      ]
    },
    {
      "cell_type": "markdown",
      "metadata": {},
      "source": [
        "The symbol listed above are 8 symbols not present in the Source Data"
      ]
    },
    {
      "cell_type": "code",
      "execution_count": 21,
      "metadata": {},
      "outputs": [
        {
          "data": {
            "text/html": [
              "<div>\n",
              "<style scoped>\n",
              "    .dataframe tbody tr th:only-of-type {\n",
              "        vertical-align: middle;\n",
              "    }\n",
              "\n",
              "    .dataframe tbody tr th {\n",
              "        vertical-align: top;\n",
              "    }\n",
              "\n",
              "    .dataframe thead th {\n",
              "        text-align: right;\n",
              "    }\n",
              "</style>\n",
              "<table border=\"1\" class=\"dataframe\">\n",
              "  <thead>\n",
              "    <tr style=\"text-align: right;\">\n",
              "      <th></th>\n",
              "      <th>USDA Symbol</th>\n",
              "      <th>Source</th>\n",
              "      <th>Source URL</th>\n",
              "      <th>Count</th>\n",
              "      <th>Scientific Name</th>\n",
              "      <th>Common Name</th>\n",
              "    </tr>\n",
              "  </thead>\n",
              "  <tbody>\n",
              "    <tr>\n",
              "      <th>57</th>\n",
              "      <td>CAPL5</td>\n",
              "      <td>Small Grasses - Meadow Like</td>\n",
              "      <td>https://bhwp.org/grow/garden-with-natives/get-...</td>\n",
              "      <td>1</td>\n",
              "      <td>NaN</td>\n",
              "      <td>NaN</td>\n",
              "    </tr>\n",
              "    <tr>\n",
              "      <th>159</th>\n",
              "      <td>MECO</td>\n",
              "      <td>Woodland Mix (short)</td>\n",
              "      <td>https://bhwp.org/grow/garden-with-natives/get-...</td>\n",
              "      <td>1</td>\n",
              "      <td>NaN</td>\n",
              "      <td>NaN</td>\n",
              "    </tr>\n",
              "    <tr>\n",
              "      <th>291</th>\n",
              "      <td>SPMA3</td>\n",
              "      <td>Woodland Mix (tall)</td>\n",
              "      <td>https://bhwp.org/grow/garden-with-natives/get-...</td>\n",
              "      <td>1</td>\n",
              "      <td>NaN</td>\n",
              "      <td>NaN</td>\n",
              "    </tr>\n",
              "    <tr>\n",
              "      <th>293</th>\n",
              "      <td>STDI3</td>\n",
              "      <td>Woodland Mix (tall)</td>\n",
              "      <td>https://bhwp.org/grow/garden-with-natives/get-...</td>\n",
              "      <td>1</td>\n",
              "      <td>NaN</td>\n",
              "      <td>NaN</td>\n",
              "    </tr>\n",
              "    <tr>\n",
              "      <th>346</th>\n",
              "      <td>ceca4</td>\n",
              "      <td>Under Black Walnut Trees</td>\n",
              "      <td>http://www.ecosystemgardening.com/what-to-plan...</td>\n",
              "      <td>1</td>\n",
              "      <td>NaN</td>\n",
              "      <td>NaN</td>\n",
              "    </tr>\n",
              "  </tbody>\n",
              "</table>\n",
              "</div>"
            ],
            "text/plain": [
              "    USDA Symbol                       Source  \\\n",
              "57        CAPL5  Small Grasses - Meadow Like   \n",
              "159        MECO         Woodland Mix (short)   \n",
              "291       SPMA3          Woodland Mix (tall)   \n",
              "293       STDI3          Woodland Mix (tall)   \n",
              "346       ceca4     Under Black Walnut Trees   \n",
              "\n",
              "                                            Source URL  Count Scientific Name  \\\n",
              "57   https://bhwp.org/grow/garden-with-natives/get-...      1             NaN   \n",
              "159  https://bhwp.org/grow/garden-with-natives/get-...      1             NaN   \n",
              "291  https://bhwp.org/grow/garden-with-natives/get-...      1             NaN   \n",
              "293  https://bhwp.org/grow/garden-with-natives/get-...      1             NaN   \n",
              "346  http://www.ecosystemgardening.com/what-to-plan...      1             NaN   \n",
              "\n",
              "    Common Name  \n",
              "57          NaN  \n",
              "159         NaN  \n",
              "291         NaN  \n",
              "293         NaN  \n",
              "346         NaN  "
            ]
          },
          "execution_count": 21,
          "metadata": {},
          "output_type": "execute_result"
        }
      ],
      "source": [
        "cond = final[\"USDA Symbol\"].isin(missing_symbols)\n",
        "final[cond].head()"
      ]
    },
    {
      "cell_type": "code",
      "execution_count": 22,
      "metadata": {},
      "outputs": [],
      "source": [
        "final = final[~cond]"
      ]
    },
    {
      "cell_type": "code",
      "execution_count": 23,
      "metadata": {},
      "outputs": [],
      "source": [
        "final[\"Common Name\"] = final[\"Common Name\"].str.title()"
      ]
    },
    {
      "cell_type": "code",
      "execution_count": 30,
      "metadata": {},
      "outputs": [],
      "source": [
        "final[\"String\"] = [f\"{row['Common Name']} ({row['Scientific Name']}): {row['Source']}\" for _,row in final.iterrows()]"
      ]
    },
    {
      "cell_type": "code",
      "execution_count": null,
      "metadata": {},
      "outputs": [],
      "source": [
        "# final.loc[cond,\"Scientific Name\"] = [\"Celtis tenuifolia\",\"Gaura biennis L.\",\"Gaura longiflora\"]"
      ]
    },
    {
      "cell_type": "code",
      "execution_count": null,
      "metadata": {},
      "outputs": [],
      "source": [
        "# final[\"String\"] = [f\"{row['Common Name']} ({row['Scientific Name']}): {row['WEB']}\" for _,row in final.iterrows()]\n"
      ]
    },
    {
      "cell_type": "code",
      "execution_count": 31,
      "metadata": {},
      "outputs": [
        {
          "data": {
            "text/html": [
              "<div>\n",
              "<style scoped>\n",
              "    .dataframe tbody tr th:only-of-type {\n",
              "        vertical-align: middle;\n",
              "    }\n",
              "\n",
              "    .dataframe tbody tr th {\n",
              "        vertical-align: top;\n",
              "    }\n",
              "\n",
              "    .dataframe thead th {\n",
              "        text-align: right;\n",
              "    }\n",
              "</style>\n",
              "<table border=\"1\" class=\"dataframe\">\n",
              "  <thead>\n",
              "    <tr style=\"text-align: right;\">\n",
              "      <th></th>\n",
              "      <th>USDA Symbol</th>\n",
              "      <th>Source</th>\n",
              "      <th>Source URL</th>\n",
              "      <th>Count</th>\n",
              "      <th>Scientific Name</th>\n",
              "      <th>Common Name</th>\n",
              "      <th>String</th>\n",
              "    </tr>\n",
              "  </thead>\n",
              "  <tbody>\n",
              "    <tr>\n",
              "      <th>0</th>\n",
              "      <td>ACAM</td>\n",
              "      <td>Witchcraft Plants</td>\n",
              "      <td>https://www.google.com/search?q=ACAM+Witchcraf...</td>\n",
              "      <td>1</td>\n",
              "      <td>Acorus americanus</td>\n",
              "      <td>Sweetflag</td>\n",
              "      <td>Sweetflag (Acorus americanus): Witchcraft Plants</td>\n",
              "    </tr>\n",
              "    <tr>\n",
              "      <th>1</th>\n",
              "      <td>ACMI2</td>\n",
              "      <td>Witchcraft Plants</td>\n",
              "      <td>https://www.google.com/search?q=ACMI2+Witchcra...</td>\n",
              "      <td>1</td>\n",
              "      <td>Achillea millefolium</td>\n",
              "      <td>Common Yarrow</td>\n",
              "      <td>Common Yarrow (Achillea millefolium): Witchcra...</td>\n",
              "    </tr>\n",
              "    <tr>\n",
              "      <th>2</th>\n",
              "      <td>ACNE2</td>\n",
              "      <td>Salt Tolerant Plants</td>\n",
              "      <td>https://edgeofthewoodsnursery.com/wp-content/u...</td>\n",
              "      <td>1</td>\n",
              "      <td>Acer negundo</td>\n",
              "      <td>Boxelder</td>\n",
              "      <td>Boxelder (Acer negundo): Salt Tolerant Plants</td>\n",
              "    </tr>\n",
              "    <tr>\n",
              "      <th>3</th>\n",
              "      <td>ACPE</td>\n",
              "      <td>Plants for Birds</td>\n",
              "      <td>https://edgeofthewoodsnursery.com/wp-content/u...</td>\n",
              "      <td>1</td>\n",
              "      <td>Acer pensylvanicum</td>\n",
              "      <td>Striped Maple</td>\n",
              "      <td>Striped Maple (Acer pensylvanicum): Plants for...</td>\n",
              "    </tr>\n",
              "    <tr>\n",
              "      <th>4</th>\n",
              "      <td>ACRA7</td>\n",
              "      <td>Tried &amp; True, Woodland Mix (tall)</td>\n",
              "      <td>https://bhwp.org/grow/garden-with-natives/get-...</td>\n",
              "      <td>2</td>\n",
              "      <td>Actaea racemosa</td>\n",
              "      <td>Black Baneberry</td>\n",
              "      <td>Black Baneberry (Actaea racemosa): Tried &amp; Tru...</td>\n",
              "    </tr>\n",
              "  </tbody>\n",
              "</table>\n",
              "</div>"
            ],
            "text/plain": [
              "  USDA Symbol                             Source  \\\n",
              "0        ACAM                  Witchcraft Plants   \n",
              "1       ACMI2                  Witchcraft Plants   \n",
              "2       ACNE2               Salt Tolerant Plants   \n",
              "3        ACPE                   Plants for Birds   \n",
              "4       ACRA7  Tried & True, Woodland Mix (tall)   \n",
              "\n",
              "                                          Source URL  Count  \\\n",
              "0  https://www.google.com/search?q=ACAM+Witchcraf...      1   \n",
              "1  https://www.google.com/search?q=ACMI2+Witchcra...      1   \n",
              "2  https://edgeofthewoodsnursery.com/wp-content/u...      1   \n",
              "3  https://edgeofthewoodsnursery.com/wp-content/u...      1   \n",
              "4  https://bhwp.org/grow/garden-with-natives/get-...      2   \n",
              "\n",
              "        Scientific Name      Common Name  \\\n",
              "0     Acorus americanus        Sweetflag   \n",
              "1  Achillea millefolium    Common Yarrow   \n",
              "2          Acer negundo         Boxelder   \n",
              "3    Acer pensylvanicum    Striped Maple   \n",
              "4       Actaea racemosa  Black Baneberry   \n",
              "\n",
              "                                              String  \n",
              "0   Sweetflag (Acorus americanus): Witchcraft Plants  \n",
              "1  Common Yarrow (Achillea millefolium): Witchcra...  \n",
              "2      Boxelder (Acer negundo): Salt Tolerant Plants  \n",
              "3  Striped Maple (Acer pensylvanicum): Plants for...  \n",
              "4  Black Baneberry (Actaea racemosa): Tried & Tru...  "
            ]
          },
          "execution_count": 31,
          "metadata": {},
          "output_type": "execute_result"
        }
      ],
      "source": [
        "final.head()"
      ]
    },
    {
      "cell_type": "code",
      "execution_count": 35,
      "metadata": {},
      "outputs": [],
      "source": [
        "final.to_excel(\"ARTICLE_AGG.xlsx\")"
      ]
    }
  ],
  "metadata": {
    "colab": {
      "name": "Online_Agg.ipynb",
      "provenance": []
    },
    "kernelspec": {
      "display_name": "Python 3",
      "name": "python3"
    },
    "language_info": {
      "codemirror_mode": {
        "name": "ipython",
        "version": 3
      },
      "file_extension": ".py",
      "mimetype": "text/x-python",
      "name": "python",
      "nbconvert_exporter": "python",
      "pygments_lexer": "ipython3",
      "version": "3.8.5"
    }
  },
  "nbformat": 4,
  "nbformat_minor": 0
}
