{
 "cells": [
  {
   "cell_type": "markdown",
   "metadata": {},
   "source": [
    "# Imports"
   ]
  },
  {
   "cell_type": "code",
   "execution_count": 2,
   "metadata": {},
   "outputs": [],
   "source": [
    "import pandas as pd\n",
    "import openpyxl "
   ]
  },
  {
   "cell_type": "markdown",
   "metadata": {},
   "source": [
    "# Data"
   ]
  },
  {
   "cell_type": "code",
   "execution_count": 3,
   "metadata": {},
   "outputs": [],
   "source": [
    "dir_path = \"C:/Users/CPL17/OneDrive/Desktop/\"\n",
    "full_path = dir_path + \"PA Wildflower Database.xlsx\""
   ]
  },
  {
   "cell_type": "code",
   "execution_count": 4,
   "metadata": {},
   "outputs": [],
   "source": [
    "local_long = pd.read_excel(full_path,sheet_name=\"LOCAL\")"
   ]
  },
  {
   "cell_type": "code",
   "execution_count": 5,
   "metadata": {},
   "outputs": [],
   "source": [
    "metadata= pd.read_excel(full_path,sheet_name=\"ERA_PA\")"
   ]
  },
  {
   "cell_type": "code",
   "execution_count": 6,
   "metadata": {},
   "outputs": [
    {
     "data": {
      "text/plain": [
       "(2181, 6)"
      ]
     },
     "execution_count": 6,
     "metadata": {},
     "output_type": "execute_result"
    }
   ],
   "source": [
    "local_long.shape"
   ]
  },
  {
   "cell_type": "code",
   "execution_count": 7,
   "metadata": {},
   "outputs": [],
   "source": [
    "local_long = local_long.iloc[:,0:3]"
   ]
  },
  {
   "cell_type": "code",
   "execution_count": 8,
   "metadata": {},
   "outputs": [
    {
     "data": {
      "text/html": [
       "<div>\n",
       "<style scoped>\n",
       "    .dataframe tbody tr th:only-of-type {\n",
       "        vertical-align: middle;\n",
       "    }\n",
       "\n",
       "    .dataframe tbody tr th {\n",
       "        vertical-align: top;\n",
       "    }\n",
       "\n",
       "    .dataframe thead th {\n",
       "        text-align: right;\n",
       "    }\n",
       "</style>\n",
       "<table border=\"1\" class=\"dataframe\">\n",
       "  <thead>\n",
       "    <tr style=\"text-align: right;\">\n",
       "      <th></th>\n",
       "      <th>LOCAL</th>\n",
       "      <th>SOURCE</th>\n",
       "      <th>SOURCE_URLS</th>\n",
       "    </tr>\n",
       "  </thead>\n",
       "  <tbody>\n",
       "    <tr>\n",
       "      <th>0</th>\n",
       "      <td>AGAL5</td>\n",
       "      <td>Arcadia Washington</td>\n",
       "      <td>https://arcadianatives.com/</td>\n",
       "    </tr>\n",
       "    <tr>\n",
       "      <th>1</th>\n",
       "      <td>AGFO</td>\n",
       "      <td>Arcadia Washington</td>\n",
       "      <td>https://arcadianatives.com/</td>\n",
       "    </tr>\n",
       "    <tr>\n",
       "      <th>2</th>\n",
       "      <td>AGSC</td>\n",
       "      <td>Arcadia Washington</td>\n",
       "      <td>https://arcadianatives.com/</td>\n",
       "    </tr>\n",
       "    <tr>\n",
       "      <th>3</th>\n",
       "      <td>AGTE3</td>\n",
       "      <td>Arcadia Washington</td>\n",
       "      <td>https://arcadianatives.com/</td>\n",
       "    </tr>\n",
       "    <tr>\n",
       "      <th>4</th>\n",
       "      <td>ALCE2</td>\n",
       "      <td>Arcadia Washington</td>\n",
       "      <td>https://arcadianatives.com/</td>\n",
       "    </tr>\n",
       "  </tbody>\n",
       "</table>\n",
       "</div>"
      ],
      "text/plain": [
       "   LOCAL              SOURCE                  SOURCE_URLS\n",
       "0  AGAL5  Arcadia Washington  https://arcadianatives.com/\n",
       "1   AGFO  Arcadia Washington  https://arcadianatives.com/\n",
       "2   AGSC  Arcadia Washington  https://arcadianatives.com/\n",
       "3  AGTE3  Arcadia Washington  https://arcadianatives.com/\n",
       "4  ALCE2  Arcadia Washington  https://arcadianatives.com/"
      ]
     },
     "execution_count": 8,
     "metadata": {},
     "output_type": "execute_result"
    }
   ],
   "source": [
    "local_long.head()"
   ]
  },
  {
   "cell_type": "code",
   "execution_count": 9,
   "metadata": {},
   "outputs": [
    {
     "data": {
      "text/plain": [
       "Gino's Newtown                            295\n",
       "Redbud Media                              278\n",
       "Edge of the Woods Orefield                168\n",
       "Collins Nursery Glenside                  164\n",
       "Arcadia Washington                        158\n",
       "Archewild Quakertown                      158\n",
       "Hungry Hook Bainbridge                    152\n",
       "Northeast Native Perennials Quakertown    142\n",
       "Perennial New Bloomfield                  138\n",
       "Keystone Robesonia                        127\n",
       "Go Native Trees                           125\n",
       "Bowman's New Hope                          82\n",
       "Musser Indiana                             65\n",
       "Butterfly Oasis Lancaster                  38\n",
       "Earthbound Ephrata                         33\n",
       "Good Host Plants Philly                    30\n",
       "Northbrook Natives West Chester            28\n",
       "Name: SOURCE, dtype: int64"
      ]
     },
     "execution_count": 9,
     "metadata": {},
     "output_type": "execute_result"
    }
   ],
   "source": [
    "local_long[\"SOURCE\"].value_counts()"
   ]
  },
  {
   "cell_type": "code",
   "execution_count": 10,
   "metadata": {},
   "outputs": [
    {
     "data": {
      "text/plain": [
       "MOFI     14\n",
       "HIKA2     1\n",
       "Name: LOCAL, dtype: int64"
      ]
     },
     "execution_count": 10,
     "metadata": {},
     "output_type": "execute_result"
    }
   ],
   "source": [
    "local_long[\"LOCAL\"].value_counts().iloc[[0,-1]]"
   ]
  },
  {
   "cell_type": "markdown",
   "metadata": {},
   "source": [
    "# Aggregations"
   ]
  },
  {
   "cell_type": "code",
   "execution_count": 11,
   "metadata": {},
   "outputs": [],
   "source": [
    "f = lambda x: ', '.join(map(str, set(x)))\n",
    "local_agg = local_long.groupby(\"LOCAL\").agg({\"SOURCE_URLS\":[f,len]})"
   ]
  },
  {
   "cell_type": "code",
   "execution_count": 12,
   "metadata": {},
   "outputs": [
    {
     "data": {
      "text/html": [
       "<div>\n",
       "<style scoped>\n",
       "    .dataframe tbody tr th:only-of-type {\n",
       "        vertical-align: middle;\n",
       "    }\n",
       "\n",
       "    .dataframe tbody tr th {\n",
       "        vertical-align: top;\n",
       "    }\n",
       "\n",
       "    .dataframe thead th {\n",
       "        text-align: right;\n",
       "    }\n",
       "</style>\n",
       "<table border=\"1\" class=\"dataframe\">\n",
       "  <thead>\n",
       "    <tr style=\"text-align: right;\">\n",
       "      <th></th>\n",
       "      <th>USDA Symbol</th>\n",
       "      <th>URL</th>\n",
       "      <th>COUNT</th>\n",
       "    </tr>\n",
       "  </thead>\n",
       "  <tbody>\n",
       "    <tr>\n",
       "      <th>0</th>\n",
       "      <td>ABBA</td>\n",
       "      <td>https://www.musserforests.com/, http://www.per...</td>\n",
       "      <td>4</td>\n",
       "    </tr>\n",
       "    <tr>\n",
       "      <th>1</th>\n",
       "      <td>ACAM</td>\n",
       "      <td>https://edgeofthewoodsnursery.com/</td>\n",
       "      <td>1</td>\n",
       "    </tr>\n",
       "    <tr>\n",
       "      <th>2</th>\n",
       "      <td>ACMI2</td>\n",
       "      <td>https://www.ginosnursery.com/</td>\n",
       "      <td>1</td>\n",
       "    </tr>\n",
       "    <tr>\n",
       "      <th>3</th>\n",
       "      <td>ACNE2</td>\n",
       "      <td>https://archewild.com/, https://www.gonativetr...</td>\n",
       "      <td>3</td>\n",
       "    </tr>\n",
       "    <tr>\n",
       "      <th>4</th>\n",
       "      <td>ACPA</td>\n",
       "      <td>https://www.collinsnursery.com/, https://www.n...</td>\n",
       "      <td>5</td>\n",
       "    </tr>\n",
       "  </tbody>\n",
       "</table>\n",
       "</div>"
      ],
      "text/plain": [
       "  USDA Symbol                                                URL  COUNT\n",
       "0        ABBA  https://www.musserforests.com/, http://www.per...      4\n",
       "1        ACAM                 https://edgeofthewoodsnursery.com/      1\n",
       "2       ACMI2                      https://www.ginosnursery.com/      1\n",
       "3       ACNE2  https://archewild.com/, https://www.gonativetr...      3\n",
       "4        ACPA  https://www.collinsnursery.com/, https://www.n...      5"
      ]
     },
     "execution_count": 12,
     "metadata": {},
     "output_type": "execute_result"
    }
   ],
   "source": [
    "local_agg.reset_index(inplace=True)\n",
    "local_agg.columns = [\"USDA Symbol\",\"URL\",\"COUNT\"]\n",
    "local_agg.head()"
   ]
  },
  {
   "cell_type": "code",
   "execution_count": 13,
   "metadata": {},
   "outputs": [
    {
     "data": {
      "text/plain": [
       "0"
      ]
     },
     "execution_count": 13,
     "metadata": {},
     "output_type": "execute_result"
    }
   ],
   "source": [
    "(local_agg[\"USDA Symbol\"].value_counts() != 1).sum() #Ensure Properly Aggregate"
   ]
  },
  {
   "cell_type": "markdown",
   "metadata": {},
   "source": [
    "# Join with MetaData"
   ]
  },
  {
   "cell_type": "code",
   "execution_count": 14,
   "metadata": {},
   "outputs": [],
   "source": [
    "metadata = metadata[[\"USDA Symbol\",\"Scientific Name\",\"Common Name\"]]"
   ]
  },
  {
   "cell_type": "code",
   "execution_count": 15,
   "metadata": {},
   "outputs": [
    {
     "data": {
      "text/html": [
       "<div>\n",
       "<style scoped>\n",
       "    .dataframe tbody tr th:only-of-type {\n",
       "        vertical-align: middle;\n",
       "    }\n",
       "\n",
       "    .dataframe tbody tr th {\n",
       "        vertical-align: top;\n",
       "    }\n",
       "\n",
       "    .dataframe thead th {\n",
       "        text-align: right;\n",
       "    }\n",
       "</style>\n",
       "<table border=\"1\" class=\"dataframe\">\n",
       "  <thead>\n",
       "    <tr style=\"text-align: right;\">\n",
       "      <th></th>\n",
       "      <th>USDA Symbol</th>\n",
       "      <th>Scientific Name</th>\n",
       "      <th>Common Name</th>\n",
       "    </tr>\n",
       "  </thead>\n",
       "  <tbody>\n",
       "    <tr>\n",
       "      <th>0</th>\n",
       "      <td>ABBA</td>\n",
       "      <td>Abies balsamea</td>\n",
       "      <td>Balsam Fir</td>\n",
       "    </tr>\n",
       "    <tr>\n",
       "      <th>1</th>\n",
       "      <td>ACNE2</td>\n",
       "      <td>Acer negundo</td>\n",
       "      <td>Boxelder</td>\n",
       "    </tr>\n",
       "    <tr>\n",
       "      <th>2</th>\n",
       "      <td>ACPE</td>\n",
       "      <td>Acer pensylvanicum</td>\n",
       "      <td>Striped Maple</td>\n",
       "    </tr>\n",
       "  </tbody>\n",
       "</table>\n",
       "</div>"
      ],
      "text/plain": [
       "  USDA Symbol     Scientific Name    Common Name\n",
       "0        ABBA      Abies balsamea     Balsam Fir\n",
       "1       ACNE2        Acer negundo       Boxelder\n",
       "2        ACPE  Acer pensylvanicum  Striped Maple"
      ]
     },
     "execution_count": 15,
     "metadata": {},
     "output_type": "execute_result"
    }
   ],
   "source": [
    "metadata.head(3)"
   ]
  },
  {
   "cell_type": "code",
   "execution_count": 16,
   "metadata": {},
   "outputs": [
    {
     "data": {
      "text/plain": [
       "set()"
      ]
     },
     "execution_count": 16,
     "metadata": {},
     "output_type": "execute_result"
    }
   ],
   "source": [
    "set(local_agg[\"USDA Symbol\"]).difference(set(metadata[\"USDA Symbol\"]))"
   ]
  },
  {
   "cell_type": "code",
   "execution_count": 17,
   "metadata": {},
   "outputs": [
    {
     "data": {
      "text/html": [
       "<div>\n",
       "<style scoped>\n",
       "    .dataframe tbody tr th:only-of-type {\n",
       "        vertical-align: middle;\n",
       "    }\n",
       "\n",
       "    .dataframe tbody tr th {\n",
       "        vertical-align: top;\n",
       "    }\n",
       "\n",
       "    .dataframe thead th {\n",
       "        text-align: right;\n",
       "    }\n",
       "</style>\n",
       "<table border=\"1\" class=\"dataframe\">\n",
       "  <thead>\n",
       "    <tr style=\"text-align: right;\">\n",
       "      <th></th>\n",
       "      <th>USDA Symbol</th>\n",
       "      <th>URL</th>\n",
       "      <th>COUNT</th>\n",
       "      <th>Scientific Name</th>\n",
       "      <th>Common Name</th>\n",
       "    </tr>\n",
       "  </thead>\n",
       "  <tbody>\n",
       "    <tr>\n",
       "      <th>0</th>\n",
       "      <td>ABBA</td>\n",
       "      <td>https://www.musserforests.com/, http://www.per...</td>\n",
       "      <td>4</td>\n",
       "      <td>Abies balsamea</td>\n",
       "      <td>Balsam Fir</td>\n",
       "    </tr>\n",
       "    <tr>\n",
       "      <th>1</th>\n",
       "      <td>ACAM</td>\n",
       "      <td>https://edgeofthewoodsnursery.com/</td>\n",
       "      <td>1</td>\n",
       "      <td>Acorus americanus</td>\n",
       "      <td>Sweetflag</td>\n",
       "    </tr>\n",
       "    <tr>\n",
       "      <th>2</th>\n",
       "      <td>ACMI2</td>\n",
       "      <td>https://www.ginosnursery.com/</td>\n",
       "      <td>1</td>\n",
       "      <td>Achillea millefolium</td>\n",
       "      <td>Common Yarrow</td>\n",
       "    </tr>\n",
       "    <tr>\n",
       "      <th>3</th>\n",
       "      <td>ACNE2</td>\n",
       "      <td>https://archewild.com/, https://www.gonativetr...</td>\n",
       "      <td>3</td>\n",
       "      <td>Acer negundo</td>\n",
       "      <td>Boxelder</td>\n",
       "    </tr>\n",
       "    <tr>\n",
       "      <th>4</th>\n",
       "      <td>ACPA</td>\n",
       "      <td>https://www.collinsnursery.com/, https://www.n...</td>\n",
       "      <td>5</td>\n",
       "      <td>Actaea pachypoda</td>\n",
       "      <td>White Baneberry</td>\n",
       "    </tr>\n",
       "  </tbody>\n",
       "</table>\n",
       "</div>"
      ],
      "text/plain": [
       "  USDA Symbol                                                URL  COUNT  \\\n",
       "0        ABBA  https://www.musserforests.com/, http://www.per...      4   \n",
       "1        ACAM                 https://edgeofthewoodsnursery.com/      1   \n",
       "2       ACMI2                      https://www.ginosnursery.com/      1   \n",
       "3       ACNE2  https://archewild.com/, https://www.gonativetr...      3   \n",
       "4        ACPA  https://www.collinsnursery.com/, https://www.n...      5   \n",
       "\n",
       "        Scientific Name      Common Name  \n",
       "0        Abies balsamea       Balsam Fir  \n",
       "1     Acorus americanus        Sweetflag  \n",
       "2  Achillea millefolium    Common Yarrow  \n",
       "3          Acer negundo         Boxelder  \n",
       "4      Actaea pachypoda  White Baneberry  "
      ]
     },
     "execution_count": 17,
     "metadata": {},
     "output_type": "execute_result"
    }
   ],
   "source": [
    "final = local_agg.merge(metadata,on=\"USDA Symbol\",how=\"left\")\n",
    "final.head()"
   ]
  },
  {
   "cell_type": "code",
   "execution_count": 18,
   "metadata": {},
   "outputs": [],
   "source": [
    "final[\"String\"] = [f\"{row['Common Name']} ({row['Scientific Name']}): {row['URL']}\" for _,row in final.iterrows()]"
   ]
  },
  {
   "cell_type": "code",
   "execution_count": 19,
   "metadata": {},
   "outputs": [
    {
     "data": {
      "text/html": [
       "<div>\n",
       "<style scoped>\n",
       "    .dataframe tbody tr th:only-of-type {\n",
       "        vertical-align: middle;\n",
       "    }\n",
       "\n",
       "    .dataframe tbody tr th {\n",
       "        vertical-align: top;\n",
       "    }\n",
       "\n",
       "    .dataframe thead th {\n",
       "        text-align: right;\n",
       "    }\n",
       "</style>\n",
       "<table border=\"1\" class=\"dataframe\">\n",
       "  <thead>\n",
       "    <tr style=\"text-align: right;\">\n",
       "      <th></th>\n",
       "      <th>USDA Symbol</th>\n",
       "      <th>URL</th>\n",
       "      <th>COUNT</th>\n",
       "      <th>Scientific Name</th>\n",
       "      <th>Common Name</th>\n",
       "      <th>String</th>\n",
       "    </tr>\n",
       "  </thead>\n",
       "  <tbody>\n",
       "    <tr>\n",
       "      <th>0</th>\n",
       "      <td>ABBA</td>\n",
       "      <td>https://www.musserforests.com/, http://www.per...</td>\n",
       "      <td>4</td>\n",
       "      <td>Abies balsamea</td>\n",
       "      <td>Balsam Fir</td>\n",
       "      <td>Balsam Fir (Abies balsamea): https://www.musse...</td>\n",
       "    </tr>\n",
       "    <tr>\n",
       "      <th>1</th>\n",
       "      <td>ACAM</td>\n",
       "      <td>https://edgeofthewoodsnursery.com/</td>\n",
       "      <td>1</td>\n",
       "      <td>Acorus americanus</td>\n",
       "      <td>Sweetflag</td>\n",
       "      <td>Sweetflag (Acorus americanus): https://edgeoft...</td>\n",
       "    </tr>\n",
       "    <tr>\n",
       "      <th>2</th>\n",
       "      <td>ACMI2</td>\n",
       "      <td>https://www.ginosnursery.com/</td>\n",
       "      <td>1</td>\n",
       "      <td>Achillea millefolium</td>\n",
       "      <td>Common Yarrow</td>\n",
       "      <td>Common Yarrow (Achillea millefolium): https://...</td>\n",
       "    </tr>\n",
       "    <tr>\n",
       "      <th>3</th>\n",
       "      <td>ACNE2</td>\n",
       "      <td>https://archewild.com/, https://www.gonativetr...</td>\n",
       "      <td>3</td>\n",
       "      <td>Acer negundo</td>\n",
       "      <td>Boxelder</td>\n",
       "      <td>Boxelder (Acer negundo): https://archewild.com...</td>\n",
       "    </tr>\n",
       "    <tr>\n",
       "      <th>4</th>\n",
       "      <td>ACPA</td>\n",
       "      <td>https://www.collinsnursery.com/, https://www.n...</td>\n",
       "      <td>5</td>\n",
       "      <td>Actaea pachypoda</td>\n",
       "      <td>White Baneberry</td>\n",
       "      <td>White Baneberry (Actaea pachypoda): https://ww...</td>\n",
       "    </tr>\n",
       "  </tbody>\n",
       "</table>\n",
       "</div>"
      ],
      "text/plain": [
       "  USDA Symbol                                                URL  COUNT  \\\n",
       "0        ABBA  https://www.musserforests.com/, http://www.per...      4   \n",
       "1        ACAM                 https://edgeofthewoodsnursery.com/      1   \n",
       "2       ACMI2                      https://www.ginosnursery.com/      1   \n",
       "3       ACNE2  https://archewild.com/, https://www.gonativetr...      3   \n",
       "4        ACPA  https://www.collinsnursery.com/, https://www.n...      5   \n",
       "\n",
       "        Scientific Name      Common Name  \\\n",
       "0        Abies balsamea       Balsam Fir   \n",
       "1     Acorus americanus        Sweetflag   \n",
       "2  Achillea millefolium    Common Yarrow   \n",
       "3          Acer negundo         Boxelder   \n",
       "4      Actaea pachypoda  White Baneberry   \n",
       "\n",
       "                                              String  \n",
       "0  Balsam Fir (Abies balsamea): https://www.musse...  \n",
       "1  Sweetflag (Acorus americanus): https://edgeoft...  \n",
       "2  Common Yarrow (Achillea millefolium): https://...  \n",
       "3  Boxelder (Acer negundo): https://archewild.com...  \n",
       "4  White Baneberry (Actaea pachypoda): https://ww...  "
      ]
     },
     "execution_count": 19,
     "metadata": {},
     "output_type": "execute_result"
    }
   ],
   "source": [
    "final.head()"
   ]
  },
  {
   "cell_type": "code",
   "execution_count": 20,
   "metadata": {},
   "outputs": [],
   "source": [
    "final.to_excel(\"LOCAL_AGG.xlsx\")"
   ]
  }
 ],
 "metadata": {
  "interpreter": {
   "hash": "643efc6330f133b8931fd3ca40ec99efa38206b3889d304866f3e28b5b532e89"
  },
  "kernelspec": {
   "display_name": "Python 3.8.5 ('base')",
   "language": "python",
   "name": "python3"
  },
  "language_info": {
   "codemirror_mode": {
    "name": "ipython",
    "version": 3
   },
   "file_extension": ".py",
   "mimetype": "text/x-python",
   "name": "python",
   "nbconvert_exporter": "python",
   "pygments_lexer": "ipython3",
   "version": "3.8.5"
  },
  "orig_nbformat": 4
 },
 "nbformat": 4,
 "nbformat_minor": 2
}
