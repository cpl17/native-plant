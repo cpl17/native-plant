{
  "cells": [
    {
      "cell_type": "code",
      "execution_count": 1,
      "metadata": {},
      "outputs": [],
      "source": [
        "# !pip install openpyxl"
      ]
    },
    {
      "cell_type": "markdown",
      "metadata": {
        "id": "E5C1gCwyLST2"
      },
      "source": [
        "# Imports"
      ]
    },
    {
      "cell_type": "code",
      "execution_count": 2,
      "metadata": {
        "id": "S-bllCoNLUTG"
      },
      "outputs": [],
      "source": [
        "import pandas as pd\n",
        "import openpyxl "
      ]
    },
    {
      "cell_type": "markdown",
      "metadata": {
        "id": "cTFVdQkoLWbG"
      },
      "source": [
        "# Data"
      ]
    },
    {
      "cell_type": "code",
      "execution_count": 5,
      "metadata": {
        "id": "XiDMPGnWLXJm"
      },
      "outputs": [],
      "source": [
        "dir_path = \"C:/Users/CPL17/OneDrive/Desktop/\"\n",
        "full_path = dir_path + \"PA Wildflower Database.xlsx\""
      ]
    },
    {
      "cell_type": "code",
      "execution_count": 6,
      "metadata": {
        "id": "h2FD3g7rLeLm"
      },
      "outputs": [],
      "source": [
        "online_long = pd.read_excel(full_path,sheet_name=\"ONLINE\")\n"
      ]
    },
    {
      "cell_type": "code",
      "execution_count": 7,
      "metadata": {},
      "outputs": [],
      "source": [
        "metadata= pd.read_excel(full_path,sheet_name=\"ERA_PA\")"
      ]
    },
    {
      "cell_type": "code",
      "execution_count": 8,
      "metadata": {
        "colab": {
          "base_uri": "https://localhost:8080/"
        },
        "id": "ryGQ8AtJNhfF",
        "outputId": "fcc642ce-6155-41d0-e0bc-02d4e6ea42e5"
      },
      "outputs": [
        {
          "data": {
            "text/plain": [
              "(4481, 4)"
            ]
          },
          "execution_count": 8,
          "metadata": {},
          "output_type": "execute_result"
        }
      ],
      "source": [
        "online_long.shape"
      ]
    },
    {
      "cell_type": "code",
      "execution_count": 9,
      "metadata": {
        "colab": {
          "base_uri": "https://localhost:8080/",
          "height": 206
        },
        "id": "xlHamZ4xMdNR",
        "outputId": "775fa147-b5d0-4bac-8387-314b17fc26ca"
      },
      "outputs": [
        {
          "data": {
            "text/html": [
              "<div>\n",
              "<style scoped>\n",
              "    .dataframe tbody tr th:only-of-type {\n",
              "        vertical-align: middle;\n",
              "    }\n",
              "\n",
              "    .dataframe tbody tr th {\n",
              "        vertical-align: top;\n",
              "    }\n",
              "\n",
              "    .dataframe thead th {\n",
              "        text-align: right;\n",
              "    }\n",
              "</style>\n",
              "<table border=\"1\" class=\"dataframe\">\n",
              "  <thead>\n",
              "    <tr style=\"text-align: right;\">\n",
              "      <th></th>\n",
              "      <th>USDA</th>\n",
              "      <th>Scientific Name</th>\n",
              "      <th>Root</th>\n",
              "      <th>Web</th>\n",
              "    </tr>\n",
              "  </thead>\n",
              "  <tbody>\n",
              "    <tr>\n",
              "      <th>0</th>\n",
              "      <td>ACMI2</td>\n",
              "      <td>Achillea millefolium</td>\n",
              "      <td>ErnstSeed.com</td>\n",
              "      <td>https://duckduckgo.com/?q=!ducky+ErnstSeed.com...</td>\n",
              "    </tr>\n",
              "    <tr>\n",
              "      <th>1</th>\n",
              "      <td>ACAM</td>\n",
              "      <td>Acorus americanus</td>\n",
              "      <td>ErnstSeed.com</td>\n",
              "      <td>https://duckduckgo.com/?q=!ducky+ErnstSeed.com...</td>\n",
              "    </tr>\n",
              "    <tr>\n",
              "      <th>2</th>\n",
              "      <td>AGFO</td>\n",
              "      <td>Agastache foeniculum</td>\n",
              "      <td>ErnstSeed.com</td>\n",
              "      <td>https://duckduckgo.com/?q=!ducky+ErnstSeed.com...</td>\n",
              "    </tr>\n",
              "    <tr>\n",
              "      <th>3</th>\n",
              "      <td>AGAL5</td>\n",
              "      <td>Ageratina altissima</td>\n",
              "      <td>ErnstSeed.com</td>\n",
              "      <td>https://duckduckgo.com/?q=!ducky+ErnstSeed.com...</td>\n",
              "    </tr>\n",
              "    <tr>\n",
              "      <th>4</th>\n",
              "      <td>ALSU</td>\n",
              "      <td>Alisma subcordatum</td>\n",
              "      <td>ErnstSeed.com</td>\n",
              "      <td>https://duckduckgo.com/?q=!ducky+ErnstSeed.com...</td>\n",
              "    </tr>\n",
              "  </tbody>\n",
              "</table>\n",
              "</div>"
            ],
            "text/plain": [
              "    USDA       Scientific Name           Root  \\\n",
              "0  ACMI2  Achillea millefolium  ErnstSeed.com   \n",
              "1   ACAM     Acorus americanus  ErnstSeed.com   \n",
              "2   AGFO  Agastache foeniculum  ErnstSeed.com   \n",
              "3  AGAL5   Ageratina altissima  ErnstSeed.com   \n",
              "4   ALSU    Alisma subcordatum  ErnstSeed.com   \n",
              "\n",
              "                                                 Web  \n",
              "0  https://duckduckgo.com/?q=!ducky+ErnstSeed.com...  \n",
              "1  https://duckduckgo.com/?q=!ducky+ErnstSeed.com...  \n",
              "2  https://duckduckgo.com/?q=!ducky+ErnstSeed.com...  \n",
              "3  https://duckduckgo.com/?q=!ducky+ErnstSeed.com...  \n",
              "4  https://duckduckgo.com/?q=!ducky+ErnstSeed.com...  "
            ]
          },
          "execution_count": 9,
          "metadata": {},
          "output_type": "execute_result"
        }
      ],
      "source": [
        "online_long.head()"
      ]
    },
    {
      "cell_type": "code",
      "execution_count": 11,
      "metadata": {
        "colab": {
          "base_uri": "https://localhost:8080/"
        },
        "id": "flftTnxgMfqn",
        "outputId": "94d20632-4b15-46bf-80cb-1b99f9751f92"
      },
      "outputs": [
        {
          "data": {
            "text/plain": [
              "PlantMoreNatives.com      1000\n",
              "IzelPlants.com             998\n",
              "PraireMoon.com             994\n",
              "MidAtlanticNatives.com     987\n",
              "ToadShade.com              284\n",
              "ErnstSeed.com              218\n",
              "Name: Root, dtype: int64"
            ]
          },
          "execution_count": 11,
          "metadata": {},
          "output_type": "execute_result"
        }
      ],
      "source": [
        "online_long[\"Root\"].value_counts()"
      ]
    },
    {
      "cell_type": "code",
      "execution_count": 12,
      "metadata": {
        "colab": {
          "base_uri": "https://localhost:8080/"
        },
        "id": "0K6qu92UMmZn",
        "outputId": "1ceaa601-30b9-4049-bd46-2827135be390"
      },
      "outputs": [
        {
          "data": {
            "text/plain": [
              "CALU4    6\n",
              "ABBA     1\n",
              "Name: USDA, dtype: int64"
            ]
          },
          "execution_count": 12,
          "metadata": {},
          "output_type": "execute_result"
        }
      ],
      "source": [
        "online_long[\"USDA\"].value_counts().iloc[[0,-1]]"
      ]
    },
    {
      "cell_type": "markdown",
      "metadata": {},
      "source": [
        "# Aggregations"
      ]
    },
    {
      "cell_type": "code",
      "execution_count": 14,
      "metadata": {
        "id": "o658WM4uNmMH"
      },
      "outputs": [],
      "source": [
        "f = lambda x: ', '.join(map(str, set(x)))\n",
        "online_agg = online_long.groupby(\"USDA\").agg({\"Root\":[f,len]})\n"
      ]
    },
    {
      "cell_type": "code",
      "execution_count": 15,
      "metadata": {},
      "outputs": [
        {
          "data": {
            "text/html": [
              "<div>\n",
              "<style scoped>\n",
              "    .dataframe tbody tr th:only-of-type {\n",
              "        vertical-align: middle;\n",
              "    }\n",
              "\n",
              "    .dataframe tbody tr th {\n",
              "        vertical-align: top;\n",
              "    }\n",
              "\n",
              "    .dataframe thead th {\n",
              "        text-align: right;\n",
              "    }\n",
              "</style>\n",
              "<table border=\"1\" class=\"dataframe\">\n",
              "  <thead>\n",
              "    <tr style=\"text-align: right;\">\n",
              "      <th></th>\n",
              "      <th>USDA Symbol</th>\n",
              "      <th>Root</th>\n",
              "      <th>COUNT</th>\n",
              "    </tr>\n",
              "  </thead>\n",
              "  <tbody>\n",
              "    <tr>\n",
              "      <th>0</th>\n",
              "      <td>ABBA</td>\n",
              "      <td>PlantMoreNatives.com</td>\n",
              "      <td>1</td>\n",
              "    </tr>\n",
              "    <tr>\n",
              "      <th>1</th>\n",
              "      <td>ACAM</td>\n",
              "      <td>ErnstSeed.com, PlantMoreNatives.com, MidAtlant...</td>\n",
              "      <td>5</td>\n",
              "    </tr>\n",
              "    <tr>\n",
              "      <th>2</th>\n",
              "      <td>ACMI2</td>\n",
              "      <td>ToadShade.com, ErnstSeed.com, PlantMoreNatives...</td>\n",
              "      <td>6</td>\n",
              "    </tr>\n",
              "    <tr>\n",
              "      <th>3</th>\n",
              "      <td>ACNE2</td>\n",
              "      <td>ToadShade.com, PlantMoreNatives.com, MidAtlant...</td>\n",
              "      <td>3</td>\n",
              "    </tr>\n",
              "    <tr>\n",
              "      <th>4</th>\n",
              "      <td>ACPA</td>\n",
              "      <td>IzelPlants.com, PlantMoreNatives.com, PraireMo...</td>\n",
              "      <td>4</td>\n",
              "    </tr>\n",
              "  </tbody>\n",
              "</table>\n",
              "</div>"
            ],
            "text/plain": [
              "  USDA Symbol                                               Root  COUNT\n",
              "0        ABBA                               PlantMoreNatives.com      1\n",
              "1        ACAM  ErnstSeed.com, PlantMoreNatives.com, MidAtlant...      5\n",
              "2       ACMI2  ToadShade.com, ErnstSeed.com, PlantMoreNatives...      6\n",
              "3       ACNE2  ToadShade.com, PlantMoreNatives.com, MidAtlant...      3\n",
              "4        ACPA  IzelPlants.com, PlantMoreNatives.com, PraireMo...      4"
            ]
          },
          "execution_count": 15,
          "metadata": {},
          "output_type": "execute_result"
        }
      ],
      "source": [
        "online_agg.reset_index(inplace=True)\n",
        "online_agg.columns = [\"USDA Symbol\",\"Root\",\"COUNT\"]\n",
        "online_agg.head()"
      ]
    },
    {
      "cell_type": "code",
      "execution_count": 16,
      "metadata": {},
      "outputs": [
        {
          "data": {
            "text/plain": [
              "0"
            ]
          },
          "execution_count": 16,
          "metadata": {},
          "output_type": "execute_result"
        }
      ],
      "source": [
        "(online_agg[\"USDA Symbol\"].value_counts() != 1).sum() #Ensure Properly Aggregate"
      ]
    },
    {
      "cell_type": "markdown",
      "metadata": {},
      "source": [
        "# Join with MetaData"
      ]
    },
    {
      "cell_type": "code",
      "execution_count": 18,
      "metadata": {},
      "outputs": [],
      "source": [
        "metadata = metadata[[\"USDA Symbol\",\"Scientific Name\",\"Common Name\"]]\n",
        "metadata.columns = [\"USDA Symbol\",\"Scientific Name\",\"Common Name\"]"
      ]
    },
    {
      "cell_type": "code",
      "execution_count": 19,
      "metadata": {},
      "outputs": [
        {
          "data": {
            "text/html": [
              "<div>\n",
              "<style scoped>\n",
              "    .dataframe tbody tr th:only-of-type {\n",
              "        vertical-align: middle;\n",
              "    }\n",
              "\n",
              "    .dataframe tbody tr th {\n",
              "        vertical-align: top;\n",
              "    }\n",
              "\n",
              "    .dataframe thead th {\n",
              "        text-align: right;\n",
              "    }\n",
              "</style>\n",
              "<table border=\"1\" class=\"dataframe\">\n",
              "  <thead>\n",
              "    <tr style=\"text-align: right;\">\n",
              "      <th></th>\n",
              "      <th>USDA Symbol</th>\n",
              "      <th>Scientific Name</th>\n",
              "      <th>Common Name</th>\n",
              "    </tr>\n",
              "  </thead>\n",
              "  <tbody>\n",
              "    <tr>\n",
              "      <th>0</th>\n",
              "      <td>ABBA</td>\n",
              "      <td>Abies balsamea</td>\n",
              "      <td>Balsam Fir</td>\n",
              "    </tr>\n",
              "    <tr>\n",
              "      <th>1</th>\n",
              "      <td>ACNE2</td>\n",
              "      <td>Acer negundo</td>\n",
              "      <td>Boxelder</td>\n",
              "    </tr>\n",
              "    <tr>\n",
              "      <th>2</th>\n",
              "      <td>ACPE</td>\n",
              "      <td>Acer pensylvanicum</td>\n",
              "      <td>Striped Maple</td>\n",
              "    </tr>\n",
              "  </tbody>\n",
              "</table>\n",
              "</div>"
            ],
            "text/plain": [
              "  USDA Symbol     Scientific Name    Common Name\n",
              "0        ABBA      Abies balsamea     Balsam Fir\n",
              "1       ACNE2        Acer negundo       Boxelder\n",
              "2        ACPE  Acer pensylvanicum  Striped Maple"
            ]
          },
          "execution_count": 19,
          "metadata": {},
          "output_type": "execute_result"
        }
      ],
      "source": [
        "metadata.head(3)"
      ]
    },
    {
      "cell_type": "code",
      "execution_count": 20,
      "metadata": {},
      "outputs": [
        {
          "data": {
            "text/plain": [
              "set()"
            ]
          },
          "execution_count": 20,
          "metadata": {},
          "output_type": "execute_result"
        }
      ],
      "source": [
        "set(online_agg[\"USDA Symbol\"]).difference(set(metadata[\"USDA Symbol\"]))"
      ]
    },
    {
      "cell_type": "code",
      "execution_count": 21,
      "metadata": {},
      "outputs": [
        {
          "data": {
            "text/html": [
              "<div>\n",
              "<style scoped>\n",
              "    .dataframe tbody tr th:only-of-type {\n",
              "        vertical-align: middle;\n",
              "    }\n",
              "\n",
              "    .dataframe tbody tr th {\n",
              "        vertical-align: top;\n",
              "    }\n",
              "\n",
              "    .dataframe thead th {\n",
              "        text-align: right;\n",
              "    }\n",
              "</style>\n",
              "<table border=\"1\" class=\"dataframe\">\n",
              "  <thead>\n",
              "    <tr style=\"text-align: right;\">\n",
              "      <th></th>\n",
              "      <th>USDA Symbol</th>\n",
              "      <th>Root</th>\n",
              "      <th>COUNT</th>\n",
              "      <th>Scientific Name</th>\n",
              "      <th>Common Name</th>\n",
              "    </tr>\n",
              "  </thead>\n",
              "  <tbody>\n",
              "    <tr>\n",
              "      <th>0</th>\n",
              "      <td>ABBA</td>\n",
              "      <td>PlantMoreNatives.com</td>\n",
              "      <td>1</td>\n",
              "      <td>Abies balsamea</td>\n",
              "      <td>Balsam Fir</td>\n",
              "    </tr>\n",
              "    <tr>\n",
              "      <th>1</th>\n",
              "      <td>ACAM</td>\n",
              "      <td>ErnstSeed.com, PlantMoreNatives.com, MidAtlant...</td>\n",
              "      <td>5</td>\n",
              "      <td>Acorus americanus</td>\n",
              "      <td>Sweetflag</td>\n",
              "    </tr>\n",
              "    <tr>\n",
              "      <th>2</th>\n",
              "      <td>ACMI2</td>\n",
              "      <td>ToadShade.com, ErnstSeed.com, PlantMoreNatives...</td>\n",
              "      <td>6</td>\n",
              "      <td>Achillea millefolium</td>\n",
              "      <td>Common Yarrow</td>\n",
              "    </tr>\n",
              "    <tr>\n",
              "      <th>3</th>\n",
              "      <td>ACNE2</td>\n",
              "      <td>ToadShade.com, PlantMoreNatives.com, MidAtlant...</td>\n",
              "      <td>3</td>\n",
              "      <td>Acer negundo</td>\n",
              "      <td>Boxelder</td>\n",
              "    </tr>\n",
              "    <tr>\n",
              "      <th>4</th>\n",
              "      <td>ACPA</td>\n",
              "      <td>IzelPlants.com, PlantMoreNatives.com, PraireMo...</td>\n",
              "      <td>4</td>\n",
              "      <td>Actaea pachypoda</td>\n",
              "      <td>White Baneberry</td>\n",
              "    </tr>\n",
              "  </tbody>\n",
              "</table>\n",
              "</div>"
            ],
            "text/plain": [
              "  USDA Symbol                                               Root  COUNT  \\\n",
              "0        ABBA                               PlantMoreNatives.com      1   \n",
              "1        ACAM  ErnstSeed.com, PlantMoreNatives.com, MidAtlant...      5   \n",
              "2       ACMI2  ToadShade.com, ErnstSeed.com, PlantMoreNatives...      6   \n",
              "3       ACNE2  ToadShade.com, PlantMoreNatives.com, MidAtlant...      3   \n",
              "4        ACPA  IzelPlants.com, PlantMoreNatives.com, PraireMo...      4   \n",
              "\n",
              "        Scientific Name      Common Name  \n",
              "0        Abies balsamea       Balsam Fir  \n",
              "1     Acorus americanus        Sweetflag  \n",
              "2  Achillea millefolium    Common Yarrow  \n",
              "3          Acer negundo         Boxelder  \n",
              "4      Actaea pachypoda  White Baneberry  "
            ]
          },
          "execution_count": 21,
          "metadata": {},
          "output_type": "execute_result"
        }
      ],
      "source": [
        "final = online_agg.merge(metadata,on=\"USDA Symbol\",how=\"left\")\n",
        "final.head()"
      ]
    },
    {
      "cell_type": "code",
      "execution_count": 22,
      "metadata": {},
      "outputs": [],
      "source": [
        "final[\"Common Name\"] = final[\"Common Name\"].str.title()"
      ]
    },
    {
      "cell_type": "code",
      "execution_count": 23,
      "metadata": {},
      "outputs": [
        {
          "data": {
            "text/html": [
              "<div>\n",
              "<style scoped>\n",
              "    .dataframe tbody tr th:only-of-type {\n",
              "        vertical-align: middle;\n",
              "    }\n",
              "\n",
              "    .dataframe tbody tr th {\n",
              "        vertical-align: top;\n",
              "    }\n",
              "\n",
              "    .dataframe thead th {\n",
              "        text-align: right;\n",
              "    }\n",
              "</style>\n",
              "<table border=\"1\" class=\"dataframe\">\n",
              "  <thead>\n",
              "    <tr style=\"text-align: right;\">\n",
              "      <th></th>\n",
              "      <th>USDA Symbol</th>\n",
              "      <th>Root</th>\n",
              "      <th>COUNT</th>\n",
              "      <th>Scientific Name</th>\n",
              "      <th>Common Name</th>\n",
              "    </tr>\n",
              "  </thead>\n",
              "  <tbody>\n",
              "    <tr>\n",
              "      <th>167</th>\n",
              "      <td>CETE</td>\n",
              "      <td>IzelPlants.com, PlantMoreNatives.com, PraireMo...</td>\n",
              "      <td>4</td>\n",
              "      <td>Celtis tenuifolia</td>\n",
              "      <td>Dwarf Hackberry</td>\n",
              "    </tr>\n",
              "    <tr>\n",
              "      <th>343</th>\n",
              "      <td>GABI2</td>\n",
              "      <td>ToadShade.com, ErnstSeed.com, PlantMoreNatives...</td>\n",
              "      <td>6</td>\n",
              "      <td>Gaura biennis</td>\n",
              "      <td>Biennial Beeblossom</td>\n",
              "    </tr>\n",
              "    <tr>\n",
              "      <th>348</th>\n",
              "      <td>GALO3</td>\n",
              "      <td>IzelPlants.com, PlantMoreNatives.com, PraireMo...</td>\n",
              "      <td>4</td>\n",
              "      <td>Gaura longiflora</td>\n",
              "      <td>Longflower Beeblossom</td>\n",
              "    </tr>\n",
              "  </tbody>\n",
              "</table>\n",
              "</div>"
            ],
            "text/plain": [
              "    USDA Symbol                                               Root  COUNT  \\\n",
              "167        CETE  IzelPlants.com, PlantMoreNatives.com, PraireMo...      4   \n",
              "343       GABI2  ToadShade.com, ErnstSeed.com, PlantMoreNatives...      6   \n",
              "348       GALO3  IzelPlants.com, PlantMoreNatives.com, PraireMo...      4   \n",
              "\n",
              "       Scientific Name            Common Name  \n",
              "167  Celtis tenuifolia        Dwarf Hackberry  \n",
              "343      Gaura biennis    Biennial Beeblossom  \n",
              "348   Gaura longiflora  Longflower Beeblossom  "
            ]
          },
          "execution_count": 23,
          "metadata": {},
          "output_type": "execute_result"
        }
      ],
      "source": [
        "cond = final[\"USDA Symbol\"].isin(['CETE', 'GABI2', 'GALO3'])\n",
        "final[cond]"
      ]
    },
    {
      "cell_type": "code",
      "execution_count": 24,
      "metadata": {},
      "outputs": [],
      "source": [
        "final.loc[cond,\"Scientific Name\"] = [\"Celtis tenuifolia\",\"Gaura biennis L.\",\"Gaura longiflora\"]"
      ]
    },
    {
      "cell_type": "code",
      "execution_count": 25,
      "metadata": {},
      "outputs": [],
      "source": [
        "final[\"String\"] = [f\"{row['Common Name']} ({row['Scientific Name']}): {row['Root']}\" for _,row in final.iterrows()]\n"
      ]
    },
    {
      "cell_type": "code",
      "execution_count": 26,
      "metadata": {},
      "outputs": [
        {
          "data": {
            "text/html": [
              "<div>\n",
              "<style scoped>\n",
              "    .dataframe tbody tr th:only-of-type {\n",
              "        vertical-align: middle;\n",
              "    }\n",
              "\n",
              "    .dataframe tbody tr th {\n",
              "        vertical-align: top;\n",
              "    }\n",
              "\n",
              "    .dataframe thead th {\n",
              "        text-align: right;\n",
              "    }\n",
              "</style>\n",
              "<table border=\"1\" class=\"dataframe\">\n",
              "  <thead>\n",
              "    <tr style=\"text-align: right;\">\n",
              "      <th></th>\n",
              "      <th>USDA Symbol</th>\n",
              "      <th>Root</th>\n",
              "      <th>COUNT</th>\n",
              "      <th>Scientific Name</th>\n",
              "      <th>Common Name</th>\n",
              "      <th>String</th>\n",
              "    </tr>\n",
              "  </thead>\n",
              "  <tbody>\n",
              "    <tr>\n",
              "      <th>0</th>\n",
              "      <td>ABBA</td>\n",
              "      <td>PlantMoreNatives.com</td>\n",
              "      <td>1</td>\n",
              "      <td>Abies balsamea</td>\n",
              "      <td>Balsam Fir</td>\n",
              "      <td>Balsam Fir (Abies balsamea): PlantMoreNatives.com</td>\n",
              "    </tr>\n",
              "    <tr>\n",
              "      <th>1</th>\n",
              "      <td>ACAM</td>\n",
              "      <td>ErnstSeed.com, PlantMoreNatives.com, MidAtlant...</td>\n",
              "      <td>5</td>\n",
              "      <td>Acorus americanus</td>\n",
              "      <td>Sweetflag</td>\n",
              "      <td>Sweetflag (Acorus americanus): ErnstSeed.com, ...</td>\n",
              "    </tr>\n",
              "    <tr>\n",
              "      <th>2</th>\n",
              "      <td>ACMI2</td>\n",
              "      <td>ToadShade.com, ErnstSeed.com, PlantMoreNatives...</td>\n",
              "      <td>6</td>\n",
              "      <td>Achillea millefolium</td>\n",
              "      <td>Common Yarrow</td>\n",
              "      <td>Common Yarrow (Achillea millefolium): ToadShad...</td>\n",
              "    </tr>\n",
              "    <tr>\n",
              "      <th>3</th>\n",
              "      <td>ACNE2</td>\n",
              "      <td>ToadShade.com, PlantMoreNatives.com, MidAtlant...</td>\n",
              "      <td>3</td>\n",
              "      <td>Acer negundo</td>\n",
              "      <td>Boxelder</td>\n",
              "      <td>Boxelder (Acer negundo): ToadShade.com, PlantM...</td>\n",
              "    </tr>\n",
              "    <tr>\n",
              "      <th>4</th>\n",
              "      <td>ACPA</td>\n",
              "      <td>IzelPlants.com, PlantMoreNatives.com, PraireMo...</td>\n",
              "      <td>4</td>\n",
              "      <td>Actaea pachypoda</td>\n",
              "      <td>White Baneberry</td>\n",
              "      <td>White Baneberry (Actaea pachypoda): IzelPlants...</td>\n",
              "    </tr>\n",
              "  </tbody>\n",
              "</table>\n",
              "</div>"
            ],
            "text/plain": [
              "  USDA Symbol                                               Root  COUNT  \\\n",
              "0        ABBA                               PlantMoreNatives.com      1   \n",
              "1        ACAM  ErnstSeed.com, PlantMoreNatives.com, MidAtlant...      5   \n",
              "2       ACMI2  ToadShade.com, ErnstSeed.com, PlantMoreNatives...      6   \n",
              "3       ACNE2  ToadShade.com, PlantMoreNatives.com, MidAtlant...      3   \n",
              "4        ACPA  IzelPlants.com, PlantMoreNatives.com, PraireMo...      4   \n",
              "\n",
              "        Scientific Name      Common Name  \\\n",
              "0        Abies balsamea       Balsam Fir   \n",
              "1     Acorus americanus        Sweetflag   \n",
              "2  Achillea millefolium    Common Yarrow   \n",
              "3          Acer negundo         Boxelder   \n",
              "4      Actaea pachypoda  White Baneberry   \n",
              "\n",
              "                                              String  \n",
              "0  Balsam Fir (Abies balsamea): PlantMoreNatives.com  \n",
              "1  Sweetflag (Acorus americanus): ErnstSeed.com, ...  \n",
              "2  Common Yarrow (Achillea millefolium): ToadShad...  \n",
              "3  Boxelder (Acer negundo): ToadShade.com, PlantM...  \n",
              "4  White Baneberry (Actaea pachypoda): IzelPlants...  "
            ]
          },
          "execution_count": 26,
          "metadata": {},
          "output_type": "execute_result"
        }
      ],
      "source": [
        "final.head()"
      ]
    },
    {
      "cell_type": "code",
      "execution_count": 30,
      "metadata": {
        "colab": {
          "base_uri": "https://localhost:8080/"
        },
        "id": "QbFbEa1TQaO1",
        "outputId": "4e046fad-a260-4eb7-c32a-c6c38e19c4cb"
      },
      "outputs": [],
      "source": [
        "final.to_excel(\"ONLINE_AGG.xlsx\")"
      ]
    }
  ],
  "metadata": {
    "colab": {
      "name": "Online_Agg.ipynb",
      "provenance": []
    },
    "kernelspec": {
      "display_name": "Python 3",
      "name": "python3"
    },
    "language_info": {
      "codemirror_mode": {
        "name": "ipython",
        "version": 3
      },
      "file_extension": ".py",
      "mimetype": "text/x-python",
      "name": "python",
      "nbconvert_exporter": "python",
      "pygments_lexer": "ipython3",
      "version": "3.8.5"
    }
  },
  "nbformat": 4,
  "nbformat_minor": 0
}
