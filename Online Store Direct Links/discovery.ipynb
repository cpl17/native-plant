{
 "cells": [
  {
   "cell_type": "code",
   "execution_count": 64,
   "metadata": {},
   "outputs": [],
   "source": [
    "import pandas as pd \n",
    "\n",
    "from selenium import webdriver\n",
    "from selenium.webdriver.support import expected_conditions as EC\n",
    "from selenium.webdriver.common.by import By\n",
    "from selenium.webdriver.support.ui import WebDriverWait\n",
    "from selenium.common.exceptions import NoSuchElementException\n",
    "from bs4 import BeautifulSoup"
   ]
  },
  {
   "cell_type": "code",
   "execution_count": 65,
   "metadata": {},
   "outputs": [],
   "source": [
    "# Catalog Reference\n",
    "era_pa = pd.read_excel(\"PA Wildflower Database.xlsx\",sheet_name=\"ERA_PA\")\n",
    "data = pd.read_excel(\"PA Wildflower Database.xlsx\",sheet_name=\"ONLINE\")\n",
    "\n",
    "map = era_pa[[\"USDA Symbol\",\"Common Name\"]]\n",
    "map = map.set_index(\"USDA Symbol\").to_dict()[\"Common Name\"]\n",
    "data[\"Common Name\"] = data[\"USDA\"].map(map)\n",
    "data = data.drop([\"Unnamed: 4\",\"Unnamed: 5\",\"Unnamed: 6\"],axis=1)\n",
    "\n"
   ]
  },
  {
   "cell_type": "code",
   "execution_count": 66,
   "metadata": {},
   "outputs": [
    {
     "data": {
      "text/plain": [
       "array(['ErnstSeed.com', 'PlantMoreNatives.com', 'PrairieMoon.com',\n",
       "       'IzelPlants.com', 'MidAtlanticNatives.com', 'ToadShade.com'],\n",
       "      dtype=object)"
      ]
     },
     "execution_count": 66,
     "metadata": {},
     "output_type": "execute_result"
    }
   ],
   "source": [
    "data.Root.unique()"
   ]
  },
  {
   "cell_type": "code",
   "execution_count": 67,
   "metadata": {},
   "outputs": [
    {
     "data": {
      "text/plain": [
       "array(['IzelPlants.com', 'MidAtlanticNatives.com', 'ErnstSeed.com',\n",
       "       'PlantMoreNatives.com', 'PrairieMoon.com', 'ToadShade.com'],\n",
       "      dtype=object)"
      ]
     },
     "execution_count": 67,
     "metadata": {},
     "output_type": "execute_result"
    }
   ],
   "source": [
    "test_data = data.sample(100) \n",
    "test_data.Root.unique()"
   ]
  },
  {
   "cell_type": "code",
   "execution_count": 68,
   "metadata": {},
   "outputs": [
    {
     "data": {
      "text/html": [
       "<div>\n",
       "<style scoped>\n",
       "    .dataframe tbody tr th:only-of-type {\n",
       "        vertical-align: middle;\n",
       "    }\n",
       "\n",
       "    .dataframe tbody tr th {\n",
       "        vertical-align: top;\n",
       "    }\n",
       "\n",
       "    .dataframe thead th {\n",
       "        text-align: right;\n",
       "    }\n",
       "</style>\n",
       "<table border=\"1\" class=\"dataframe\">\n",
       "  <thead>\n",
       "    <tr style=\"text-align: right;\">\n",
       "      <th></th>\n",
       "      <th>USDA</th>\n",
       "      <th>Scientific Name</th>\n",
       "      <th>Root</th>\n",
       "      <th>Web</th>\n",
       "      <th>Common Name</th>\n",
       "    </tr>\n",
       "  </thead>\n",
       "  <tbody>\n",
       "    <tr>\n",
       "      <th>2665</th>\n",
       "      <td>LEVI2</td>\n",
       "      <td>Leersia virginica</td>\n",
       "      <td>IzelPlants.com</td>\n",
       "      <td>https://duckduckgo.com/?q=!ducky+IzelPlants.co...</td>\n",
       "      <td>Whitegrass</td>\n",
       "    </tr>\n",
       "    <tr>\n",
       "      <th>4109</th>\n",
       "      <td>TRDI2</td>\n",
       "      <td>Trichostema dichotomum</td>\n",
       "      <td>MidAtlanticNatives.com</td>\n",
       "      <td>https://duckduckgo.com/?q=!ducky+MidAtlanticNa...</td>\n",
       "      <td>Forked Bluecurls</td>\n",
       "    </tr>\n",
       "    <tr>\n",
       "      <th>62</th>\n",
       "      <td>ELHY</td>\n",
       "      <td>Elymus hystrix</td>\n",
       "      <td>ErnstSeed.com</td>\n",
       "      <td>https://duckduckgo.com/?q=!ducky+ErnstSeed.com...</td>\n",
       "      <td>Eastern Bottlebrush Grass</td>\n",
       "    </tr>\n",
       "    <tr>\n",
       "      <th>2779</th>\n",
       "      <td>PAVI2</td>\n",
       "      <td>Panicum virgatum</td>\n",
       "      <td>IzelPlants.com</td>\n",
       "      <td>https://duckduckgo.com/?q=!ducky+IzelPlants.co...</td>\n",
       "      <td>Switchgrass</td>\n",
       "    </tr>\n",
       "    <tr>\n",
       "      <th>2776</th>\n",
       "      <td>PAPA20</td>\n",
       "      <td>Packera paupercula</td>\n",
       "      <td>IzelPlants.com</td>\n",
       "      <td>https://duckduckgo.com/?q=!ducky+IzelPlants.co...</td>\n",
       "      <td>Balsam Groundsel</td>\n",
       "    </tr>\n",
       "  </tbody>\n",
       "</table>\n",
       "</div>"
      ],
      "text/plain": [
       "        USDA         Scientific Name                    Root  \\\n",
       "2665   LEVI2       Leersia virginica          IzelPlants.com   \n",
       "4109   TRDI2  Trichostema dichotomum  MidAtlanticNatives.com   \n",
       "62      ELHY          Elymus hystrix           ErnstSeed.com   \n",
       "2779   PAVI2        Panicum virgatum          IzelPlants.com   \n",
       "2776  PAPA20      Packera paupercula          IzelPlants.com   \n",
       "\n",
       "                                                    Web  \\\n",
       "2665  https://duckduckgo.com/?q=!ducky+IzelPlants.co...   \n",
       "4109  https://duckduckgo.com/?q=!ducky+MidAtlanticNa...   \n",
       "62    https://duckduckgo.com/?q=!ducky+ErnstSeed.com...   \n",
       "2779  https://duckduckgo.com/?q=!ducky+IzelPlants.co...   \n",
       "2776  https://duckduckgo.com/?q=!ducky+IzelPlants.co...   \n",
       "\n",
       "                    Common Name  \n",
       "2665                 Whitegrass  \n",
       "4109           Forked Bluecurls  \n",
       "62    Eastern Bottlebrush Grass  \n",
       "2779                Switchgrass  \n",
       "2776           Balsam Groundsel  "
      ]
     },
     "execution_count": 68,
     "metadata": {},
     "output_type": "execute_result"
    }
   ],
   "source": [
    "test_data.head()"
   ]
  },
  {
   "cell_type": "markdown",
   "metadata": {},
   "source": [
    "Get List of Direct Links"
   ]
  },
  {
   "cell_type": "code",
   "execution_count": 69,
   "metadata": {},
   "outputs": [],
   "source": [
    "direct_links = []\n",
    "root = test_data[\"Root\"].to_list()\n",
    "\n",
    "\n",
    "for row in test_data.iterrows():\n",
    "\n",
    "    if row[1][\"Root\"] == \"ErnstSeed.com\":\n",
    "\n",
    "        direct_link = \"https://www.ernstseed.com/product/\" + \"-\".join(row[1][\"Common Name\"].lower().split())\n",
    "    \n",
    "    elif row[1][\"Root\"] == \"IzelPlants.com\":\n",
    "\n",
    "        direct_link\n",
    "\n",
    "        direct_link = \"https://www.izelplants.com/\" + \"-\".join(row[1][\"Scientific Name\"].lower().split()) + \"-\" + \"-\".join(row[1][\"Common Name\"].lower().split())\n",
    "\n",
    "    elif row[1][\"Root\"] == \"ToadShade.com\":\n",
    "\n",
    "        direct_link = \"https://toadshade.com/\" +  (\"-\".join(row[1][\"Scientific Name\"].lower().split())).capitalize() + \".html\"\n",
    "\n",
    "\n",
    "    elif row[1][\"Root\"] == \"MidAtlanticNatives.com\":\n",
    "        direct_link = \"https://midatlanticnatives.com/product/\" + \"-\".join(row[1][\"Scientific Name\"].lower().split()) + \"-\" + \"-\".join(row[1][\"Common Name\"].lower().split())\n",
    "\n",
    "\n",
    "\n",
    "    elif row[1][\"Root\"] == \"PrairieMoon.com\":\n",
    "        direct_link = \"https://www.prairiemoon.com/\"+ \"-\".join(row[1][\"Scientific Name\"].lower().split()) + \"-\" + \"-\".join(row[1][\"Common Name\"].lower().split())+ \"-prairie-moon-nursery.html\"\n",
    "\n",
    "\n",
    "    else:\n",
    "\n",
    "        direct_link = \"NA\"\n",
    "\n",
    "    direct_links.append(direct_link)\n",
    "    \n"
   ]
  },
  {
   "cell_type": "markdown",
   "metadata": {},
   "source": [
    "Get List of Search Links"
   ]
  },
  {
   "cell_type": "code",
   "execution_count": 70,
   "metadata": {},
   "outputs": [],
   "source": [
    "search_links = []\n",
    "root = test_data[\"Root\"].to_list()\n",
    "\n",
    "\n",
    "for row in test_data.iterrows():\n",
    "\n",
    "    if row[1][\"Root\"] == \"ErnstSeed.com\":\n",
    "\n",
    "        scientific_name = (\"%20\".join(row[1][\"Scientific Name\"].split())).lower()\n",
    "\n",
    "        common_name = (\"%20\".join(row[1][\"Common Name\"].split())).lower()\n",
    "\n",
    "\n",
    "        search_link = f\"https://www.ernstseed.com/seed-finder-tool/?s=&CommonName={common_name}&ItemNumber=&Botanical_Name={scientific_name}\"\n",
    "    \n",
    "    elif row[1][\"Root\"] == \"IzelPlants.com\":\n",
    "\n",
    "        scientific_name = (\"%20\".join(row[1][\"Scientific Name\"].split())).lower()\n",
    "\n",
    "        search_link = f\"https://www.izelplants.com/catalogsearch/result/?q={scientific_name}\"\n",
    "\n",
    "    elif row[1][\"Root\"] == \"ToadShade.com\":\n",
    "\n",
    "        search_link = \"NA\"\n",
    "\n",
    "\n",
    "    elif row[1][\"Root\"] == \"MidAtlanticNatives.com\":\n",
    "        \n",
    "        search_link = \"NA\"\n",
    "\n",
    "\n",
    "\n",
    "    elif row[1][\"Root\"] == \"PrairieMoon.com\":\n",
    "        \n",
    "        scientific_name = (\"%20\".join(row[1][\"Scientific Name\"].split())).lower()\n",
    "\n",
    "        search_link = f\"https://www.prairiemoon.com/search.html?Search={scientific_name}\"\n",
    "\n",
    "\n",
    "    else:\n",
    "\n",
    "        search_link = \"NA\"\n",
    "\n",
    "    search_links.append(search_link)"
   ]
  },
  {
   "cell_type": "code",
   "execution_count": 71,
   "metadata": {},
   "outputs": [],
   "source": [
    "test_data[\"Direct\"] = direct_links\n",
    "test_data[\"Search\"] = search_links"
   ]
  },
  {
   "cell_type": "code",
   "execution_count": 72,
   "metadata": {},
   "outputs": [],
   "source": [
    "test_data.sort_values(by=\"Root\",inplace=True)"
   ]
  },
  {
   "cell_type": "code",
   "execution_count": 74,
   "metadata": {},
   "outputs": [],
   "source": [
    "test_data = test_data.groupby(\"Root\").tail(8)"
   ]
  },
  {
   "cell_type": "code",
   "execution_count": 75,
   "metadata": {},
   "outputs": [],
   "source": [
    "test_data = test_data[[\"USDA\",\"Scientific Name\",\"Common Name\",\"Root\",\"Web\",\"Direct\",\"Search\"]]\n",
    "test_data.columns = [\"USDA\",\"Scientific Name\",\"Common Name\",\"Root\",\"Duck\",\"Direct\",\"Search\"]"
   ]
  },
  {
   "cell_type": "code",
   "execution_count": 76,
   "metadata": {},
   "outputs": [
    {
     "data": {
      "text/html": [
       "<div>\n",
       "<style scoped>\n",
       "    .dataframe tbody tr th:only-of-type {\n",
       "        vertical-align: middle;\n",
       "    }\n",
       "\n",
       "    .dataframe tbody tr th {\n",
       "        vertical-align: top;\n",
       "    }\n",
       "\n",
       "    .dataframe thead th {\n",
       "        text-align: right;\n",
       "    }\n",
       "</style>\n",
       "<table border=\"1\" class=\"dataframe\">\n",
       "  <thead>\n",
       "    <tr style=\"text-align: right;\">\n",
       "      <th></th>\n",
       "      <th>USDA</th>\n",
       "      <th>Scientific Name</th>\n",
       "      <th>Common Name</th>\n",
       "      <th>Root</th>\n",
       "      <th>Duck</th>\n",
       "      <th>Direct</th>\n",
       "      <th>Search</th>\n",
       "    </tr>\n",
       "  </thead>\n",
       "  <tbody>\n",
       "    <tr>\n",
       "      <th>62</th>\n",
       "      <td>ELHY</td>\n",
       "      <td>Elymus hystrix</td>\n",
       "      <td>Eastern Bottlebrush Grass</td>\n",
       "      <td>ErnstSeed.com</td>\n",
       "      <td>https://duckduckgo.com/?q=!ducky+ErnstSeed.com...</td>\n",
       "      <td>https://www.ernstseed.com/product/eastern-bott...</td>\n",
       "      <td>https://www.ernstseed.com/seed-finder-tool/?s=...</td>\n",
       "    </tr>\n",
       "    <tr>\n",
       "      <th>4195</th>\n",
       "      <td>ROHI</td>\n",
       "      <td>Robinia hispida</td>\n",
       "      <td>Bristly Locust</td>\n",
       "      <td>ErnstSeed.com</td>\n",
       "      <td>https://duckduckgo.com/?q=!ducky+ErnstSeed.com...</td>\n",
       "      <td>https://www.ernstseed.com/product/bristly-locust</td>\n",
       "      <td>https://www.ernstseed.com/seed-finder-tool/?s=...</td>\n",
       "    </tr>\n",
       "    <tr>\n",
       "      <th>163</th>\n",
       "      <td>SOAL6</td>\n",
       "      <td>Solidago altissima</td>\n",
       "      <td>Canada Goldenrod</td>\n",
       "      <td>ErnstSeed.com</td>\n",
       "      <td>https://duckduckgo.com/?q=!ducky+ErnstSeed.com...</td>\n",
       "      <td>https://www.ernstseed.com/product/canada-golde...</td>\n",
       "      <td>https://www.ernstseed.com/seed-finder-tool/?s=...</td>\n",
       "    </tr>\n",
       "    <tr>\n",
       "      <th>180</th>\n",
       "      <td>SPHE</td>\n",
       "      <td>Sporobolus heterolepis</td>\n",
       "      <td>Prairie Dropseed</td>\n",
       "      <td>ErnstSeed.com</td>\n",
       "      <td>https://duckduckgo.com/?q=!ducky+ErnstSeed.com...</td>\n",
       "      <td>https://www.ernstseed.com/product/prairie-drop...</td>\n",
       "      <td>https://www.ernstseed.com/seed-finder-tool/?s=...</td>\n",
       "    </tr>\n",
       "    <tr>\n",
       "      <th>2647</th>\n",
       "      <td>JUVI</td>\n",
       "      <td>Juniperus virginiana</td>\n",
       "      <td>Eastern Redcedar</td>\n",
       "      <td>IzelPlants.com</td>\n",
       "      <td>https://duckduckgo.com/?q=!ducky+IzelPlants.co...</td>\n",
       "      <td>https://www.izelplants.com/juniperus-virginian...</td>\n",
       "      <td>https://www.izelplants.com/catalogsearch/resul...</td>\n",
       "    </tr>\n",
       "  </tbody>\n",
       "</table>\n",
       "</div>"
      ],
      "text/plain": [
       "       USDA         Scientific Name                Common Name  \\\n",
       "62     ELHY          Elymus hystrix  Eastern Bottlebrush Grass   \n",
       "4195   ROHI         Robinia hispida             Bristly Locust   \n",
       "163   SOAL6      Solidago altissima           Canada Goldenrod   \n",
       "180    SPHE  Sporobolus heterolepis           Prairie Dropseed   \n",
       "2647   JUVI    Juniperus virginiana           Eastern Redcedar   \n",
       "\n",
       "                Root                                               Duck  \\\n",
       "62     ErnstSeed.com  https://duckduckgo.com/?q=!ducky+ErnstSeed.com...   \n",
       "4195   ErnstSeed.com  https://duckduckgo.com/?q=!ducky+ErnstSeed.com...   \n",
       "163    ErnstSeed.com  https://duckduckgo.com/?q=!ducky+ErnstSeed.com...   \n",
       "180    ErnstSeed.com  https://duckduckgo.com/?q=!ducky+ErnstSeed.com...   \n",
       "2647  IzelPlants.com  https://duckduckgo.com/?q=!ducky+IzelPlants.co...   \n",
       "\n",
       "                                                 Direct  \\\n",
       "62    https://www.ernstseed.com/product/eastern-bott...   \n",
       "4195   https://www.ernstseed.com/product/bristly-locust   \n",
       "163   https://www.ernstseed.com/product/canada-golde...   \n",
       "180   https://www.ernstseed.com/product/prairie-drop...   \n",
       "2647  https://www.izelplants.com/juniperus-virginian...   \n",
       "\n",
       "                                                 Search  \n",
       "62    https://www.ernstseed.com/seed-finder-tool/?s=...  \n",
       "4195  https://www.ernstseed.com/seed-finder-tool/?s=...  \n",
       "163   https://www.ernstseed.com/seed-finder-tool/?s=...  \n",
       "180   https://www.ernstseed.com/seed-finder-tool/?s=...  \n",
       "2647  https://www.izelplants.com/catalogsearch/resul...  "
      ]
     },
     "execution_count": 76,
     "metadata": {},
     "output_type": "execute_result"
    }
   ],
   "source": [
    "test_data.head()"
   ]
  },
  {
   "cell_type": "code",
   "execution_count": 77,
   "metadata": {},
   "outputs": [],
   "source": [
    "test_data.to_csv(\"test.csv\")"
   ]
  },
  {
   "cell_type": "markdown",
   "metadata": {},
   "source": [
    "Develop a check of the duckduckgo link success using prairiemoon as a starting point (Check will work for other nurseries and the approach is similar for Direct and Search links) "
   ]
  },
  {
   "cell_type": "code",
   "execution_count": 78,
   "metadata": {},
   "outputs": [],
   "source": [
    "PATH = \"C:\\Program Files (x86)\\chromedriver.exe\"\n",
    "DELAY = 2"
   ]
  },
  {
   "cell_type": "code",
   "execution_count": 79,
   "metadata": {},
   "outputs": [],
   "source": [
    "prairie_moon = test_data[test_data[\"Root\"]==\"PrairieMoon.com\"]\n",
    "prairie_moon_links = prairie_moon[\"Duck\"]"
   ]
  },
  {
   "cell_type": "code",
   "execution_count": 80,
   "metadata": {},
   "outputs": [
    {
     "data": {
      "text/html": [
       "<div>\n",
       "<style scoped>\n",
       "    .dataframe tbody tr th:only-of-type {\n",
       "        vertical-align: middle;\n",
       "    }\n",
       "\n",
       "    .dataframe tbody tr th {\n",
       "        vertical-align: top;\n",
       "    }\n",
       "\n",
       "    .dataframe thead th {\n",
       "        text-align: right;\n",
       "    }\n",
       "</style>\n",
       "<table border=\"1\" class=\"dataframe\">\n",
       "  <thead>\n",
       "    <tr style=\"text-align: right;\">\n",
       "      <th></th>\n",
       "      <th>USDA</th>\n",
       "      <th>Scientific Name</th>\n",
       "      <th>Common Name</th>\n",
       "      <th>Root</th>\n",
       "      <th>Duck</th>\n",
       "      <th>Direct</th>\n",
       "      <th>Search</th>\n",
       "    </tr>\n",
       "  </thead>\n",
       "  <tbody>\n",
       "    <tr>\n",
       "      <th>1929</th>\n",
       "      <td>ROVI</td>\n",
       "      <td>Robinia viscosa</td>\n",
       "      <td>Clammy Locust</td>\n",
       "      <td>PrairieMoon.com</td>\n",
       "      <td>https://duckduckgo.com/?q=!ducky+PrairieMoon.c...</td>\n",
       "      <td>https://www.prairiemoon.com/robinia-viscosa-cl...</td>\n",
       "      <td>https://www.prairiemoon.com/search.html?Search...</td>\n",
       "    </tr>\n",
       "    <tr>\n",
       "      <th>1788</th>\n",
       "      <td>PECA8</td>\n",
       "      <td>Penstemon canescens</td>\n",
       "      <td>Eastern Gray Beardtongue</td>\n",
       "      <td>PrairieMoon.com</td>\n",
       "      <td>https://duckduckgo.com/?q=!ducky+PrairieMoon.c...</td>\n",
       "      <td>https://www.prairiemoon.com/penstemon-canescen...</td>\n",
       "      <td>https://www.prairiemoon.com/search.html?Search...</td>\n",
       "    </tr>\n",
       "    <tr>\n",
       "      <th>1689</th>\n",
       "      <td>LICA12</td>\n",
       "      <td>Lithospermum canescens</td>\n",
       "      <td>Hoary Puccoon</td>\n",
       "      <td>PrairieMoon.com</td>\n",
       "      <td>https://duckduckgo.com/?q=!ducky+PrairieMoon.c...</td>\n",
       "      <td>https://www.prairiemoon.com/lithospermum-canes...</td>\n",
       "      <td>https://www.prairiemoon.com/search.html?Search...</td>\n",
       "    </tr>\n",
       "    <tr>\n",
       "      <th>1342</th>\n",
       "      <td>CALU5</td>\n",
       "      <td>Carex lurida</td>\n",
       "      <td>Shallow Sedge</td>\n",
       "      <td>PrairieMoon.com</td>\n",
       "      <td>https://duckduckgo.com/?q=!ducky+PrairieMoon.c...</td>\n",
       "      <td>https://www.prairiemoon.com/carex-lurida-shall...</td>\n",
       "      <td>https://www.prairiemoon.com/search.html?Search...</td>\n",
       "    </tr>\n",
       "    <tr>\n",
       "      <th>1309</th>\n",
       "      <td>BICO</td>\n",
       "      <td>Bidens coronata</td>\n",
       "      <td>Crowned Beggarticks</td>\n",
       "      <td>PrairieMoon.com</td>\n",
       "      <td>https://duckduckgo.com/?q=!ducky+PrairieMoon.c...</td>\n",
       "      <td>https://www.prairiemoon.com/bidens-coronata-cr...</td>\n",
       "      <td>https://www.prairiemoon.com/search.html?Search...</td>\n",
       "    </tr>\n",
       "    <tr>\n",
       "      <th>1710</th>\n",
       "      <td>LYLI</td>\n",
       "      <td>Lyonia ligustrina</td>\n",
       "      <td>Maleberry</td>\n",
       "      <td>PrairieMoon.com</td>\n",
       "      <td>https://duckduckgo.com/?q=!ducky+PrairieMoon.c...</td>\n",
       "      <td>https://www.prairiemoon.com/lyonia-ligustrina-...</td>\n",
       "      <td>https://www.prairiemoon.com/search.html?Search...</td>\n",
       "    </tr>\n",
       "    <tr>\n",
       "      <th>1761</th>\n",
       "      <td>OEVI</td>\n",
       "      <td>Oenothera villosa</td>\n",
       "      <td>Hairy Evening Primrose</td>\n",
       "      <td>PrairieMoon.com</td>\n",
       "      <td>https://duckduckgo.com/?q=!ducky+PrairieMoon.c...</td>\n",
       "      <td>https://www.prairiemoon.com/oenothera-villosa-...</td>\n",
       "      <td>https://www.prairiemoon.com/search.html?Search...</td>\n",
       "    </tr>\n",
       "    <tr>\n",
       "      <th>1934</th>\n",
       "      <td>ROVI2</td>\n",
       "      <td>Rosa virginiana</td>\n",
       "      <td>Virginia Rose</td>\n",
       "      <td>PrairieMoon.com</td>\n",
       "      <td>https://duckduckgo.com/?q=!ducky+PrairieMoon.c...</td>\n",
       "      <td>https://www.prairiemoon.com/rosa-virginiana-vi...</td>\n",
       "      <td>https://www.prairiemoon.com/search.html?Search...</td>\n",
       "    </tr>\n",
       "  </tbody>\n",
       "</table>\n",
       "</div>"
      ],
      "text/plain": [
       "        USDA         Scientific Name               Common Name  \\\n",
       "1929    ROVI         Robinia viscosa             Clammy Locust   \n",
       "1788   PECA8     Penstemon canescens  Eastern Gray Beardtongue   \n",
       "1689  LICA12  Lithospermum canescens             Hoary Puccoon   \n",
       "1342   CALU5            Carex lurida             Shallow Sedge   \n",
       "1309    BICO         Bidens coronata       Crowned Beggarticks   \n",
       "1710    LYLI       Lyonia ligustrina                 Maleberry   \n",
       "1761    OEVI       Oenothera villosa    Hairy Evening Primrose   \n",
       "1934   ROVI2         Rosa virginiana             Virginia Rose   \n",
       "\n",
       "                 Root                                               Duck  \\\n",
       "1929  PrairieMoon.com  https://duckduckgo.com/?q=!ducky+PrairieMoon.c...   \n",
       "1788  PrairieMoon.com  https://duckduckgo.com/?q=!ducky+PrairieMoon.c...   \n",
       "1689  PrairieMoon.com  https://duckduckgo.com/?q=!ducky+PrairieMoon.c...   \n",
       "1342  PrairieMoon.com  https://duckduckgo.com/?q=!ducky+PrairieMoon.c...   \n",
       "1309  PrairieMoon.com  https://duckduckgo.com/?q=!ducky+PrairieMoon.c...   \n",
       "1710  PrairieMoon.com  https://duckduckgo.com/?q=!ducky+PrairieMoon.c...   \n",
       "1761  PrairieMoon.com  https://duckduckgo.com/?q=!ducky+PrairieMoon.c...   \n",
       "1934  PrairieMoon.com  https://duckduckgo.com/?q=!ducky+PrairieMoon.c...   \n",
       "\n",
       "                                                 Direct  \\\n",
       "1929  https://www.prairiemoon.com/robinia-viscosa-cl...   \n",
       "1788  https://www.prairiemoon.com/penstemon-canescen...   \n",
       "1689  https://www.prairiemoon.com/lithospermum-canes...   \n",
       "1342  https://www.prairiemoon.com/carex-lurida-shall...   \n",
       "1309  https://www.prairiemoon.com/bidens-coronata-cr...   \n",
       "1710  https://www.prairiemoon.com/lyonia-ligustrina-...   \n",
       "1761  https://www.prairiemoon.com/oenothera-villosa-...   \n",
       "1934  https://www.prairiemoon.com/rosa-virginiana-vi...   \n",
       "\n",
       "                                                 Search  \n",
       "1929  https://www.prairiemoon.com/search.html?Search...  \n",
       "1788  https://www.prairiemoon.com/search.html?Search...  \n",
       "1689  https://www.prairiemoon.com/search.html?Search...  \n",
       "1342  https://www.prairiemoon.com/search.html?Search...  \n",
       "1309  https://www.prairiemoon.com/search.html?Search...  \n",
       "1710  https://www.prairiemoon.com/search.html?Search...  \n",
       "1761  https://www.prairiemoon.com/search.html?Search...  \n",
       "1934  https://www.prairiemoon.com/search.html?Search...  "
      ]
     },
     "execution_count": 80,
     "metadata": {},
     "output_type": "execute_result"
    }
   ],
   "source": [
    "prairie_moon"
   ]
  },
  {
   "cell_type": "code",
   "execution_count": null,
   "metadata": {},
   "outputs": [],
   "source": [
    "prairie_moon[\"Root_Direct\"] = prairie_moon.loc[:,[\"Root\"]].apply(lambda x: \"https://www.\" + x)"
   ]
  },
  {
   "cell_type": "code",
   "execution_count": 96,
   "metadata": {},
   "outputs": [
    {
     "name": "stderr",
     "output_type": "stream",
     "text": [
      "C:\\Users\\CPL17\\AppData\\Local\\Temp\\ipykernel_8440\\2005997389.py:3: DeprecationWarning: executable_path has been deprecated, please pass in a Service object\n",
      "  driver = webdriver.Chrome(executable_path=PATH)\n"
     ]
    },
    {
     "name": "stdout",
     "output_type": "stream",
     "text": [
      "['PrairieMoon.com', 'PrairieMoon.com', 'PrairieMoon.com', 'https://duckduckgo.com/?q=!ducky+PrairieMoon.com+Carex+lurida&ia=web', 'https://duckduckgo.com/?q=!ducky+PrairieMoon.com+Bidens+coronata&ia=web', 'PrairieMoon.com', 'PrairieMoon.com', 'PrairieMoon.com']\n"
     ]
    }
   ],
   "source": [
    "links_final = []\n",
    "\n",
    "driver = webdriver.Chrome(executable_path=PATH)\n",
    "for row in prairie_moon.iterrows():\n",
    "\n",
    "    link_directs_correctly = True\n",
    "\n",
    "\n",
    "    driver.get(row[1].Duck)\n",
    "\n",
    "    time.sleep(5)\n",
    "\n",
    "\n",
    "    if not row[1].Root.lower() in driver.current_url.lower():\n",
    "        link_directs_correctly = False\n",
    "\n",
    "    if not (row[1][\"Scientific Name\"].lower() in driver.page_source.lower()) | (row[1][\"Common Name\"].lower() in driver.page_source.lower()) :\n",
    "        link_directs_correctly = False\n",
    "\n",
    "    if link_directs_correctly:\n",
    "\n",
    "        links_final.append(row[1].Duck)\n",
    "    \n",
    "    else:\n",
    "\n",
    "        links_final.append(row[1].Root)\n",
    "\n",
    "\n",
    "print(links_final)\n",
    "    "
   ]
  },
  {
   "cell_type": "markdown",
   "metadata": {},
   "source": [
    "Impliment similar procedure for direct and search links. Heirachy is direct -> duck -> search"
   ]
  },
  {
   "cell_type": "code",
   "execution_count": 126,
   "metadata": {},
   "outputs": [
    {
     "data": {
      "text/plain": [
       "array(['ErnstSeed.com', 'IzelPlants.com', 'MidAtlanticNatives.com',\n",
       "       'PlantMoreNatives.com', 'PrairieMoon.com', 'ToadShade.com'],\n",
       "      dtype=object)"
      ]
     },
     "execution_count": 126,
     "metadata": {},
     "output_type": "execute_result"
    }
   ],
   "source": [
    "test_data.Root.unique()"
   ]
  },
  {
   "cell_type": "code",
   "execution_count": 146,
   "metadata": {},
   "outputs": [],
   "source": [
    "test_data2 = test_data[test_data.Root==\"ToadShade.com\"]\n",
    "test_data2"
   ]
  },
  {
   "cell_type": "code",
   "execution_count": null,
   "metadata": {},
   "outputs": [],
   "source": [
    "\n",
    "driver = webdriver.Chrome(executable_path=PATH)\n",
    "\n",
    "links_final = []\n",
    "\n",
    "for row in test_data.iterrows():\n",
    "\n",
    "    \n",
    "   \n",
    "    #Iterate through each of the options (Direct -> DuckDuckGo -> Search Tool)\n",
    "    for link in [row[1].Direct,row[1].Duck,row[1].Search]:\n",
    "\n",
    "        if link == \"NA\":\n",
    "            continue\n",
    "\n",
    "        driver.get(link)\n",
    "\n",
    "        link_directs_correctly = False\n",
    "\n",
    "        #Assumes if text on page correct site\n",
    "        if (row[1][\"Scientific Name\"].lower() in driver.page_source.lower()) | (row[1][\"Common Name\"].lower() in driver.page_source.lower()) :\n",
    "            link_directs_correctly = True\n",
    "\n",
    "\n",
    "        ###Conditions where the text is on the page but it's not the correct site###\n",
    "\n",
    "        if not row[1].Root.lower() in driver.current_url.lower():\n",
    "            link_directs_correctly = False\n",
    "\n",
    "\n",
    "        #ErnstSeed eccentricities\n",
    "\n",
    "        if \"pdf\" in driver.current_url.lower():\n",
    "            link_directs_correctly = False\n",
    "\n",
    "        if \"0 products\" in driver.page_source.lower():\n",
    "\n",
    "            link_directs_correctly = False\n",
    "\n",
    "        #IzelPlants eccentricities\n",
    "\n",
    "        \n",
    "        if \"Your search return no results\" in driver.page_source.lower():\n",
    "\n",
    "            link_directs_correctly = False\n",
    "\n",
    "        #Prairiemoon eccentricities\n",
    "\n",
    "        if \"returned no results\" in driver.page_source.lower():\n",
    "\n",
    "            link_directs_correctly = False\n",
    "\n",
    "        #If link direct correctly, move to next plant, else move to next link. \n",
    "        if link_directs_correctly:\n",
    "\n",
    "            links_final.append(link)\n",
    "            break\n",
    "\n",
    "    if not link_directs_correctly:\n",
    "\n",
    "        links_final.append(row[1].Root)\n",
    "    "
   ]
  },
  {
   "cell_type": "code",
   "execution_count": 162,
   "metadata": {},
   "outputs": [],
   "source": [
    "test_data[\"Final\"] = links_final\n",
    "test_data[\"Match\"] = test_data[\"Final\"] != test_data[\"Root\"] \n",
    "test_data.sort_values(by=\"Root\",inplace=True)\n",
    "test_data.to_csv(\"TEST.csv\")"
   ]
  }
 ],
 "metadata": {
  "kernelspec": {
   "display_name": "Python 3.8.13 ('base')",
   "language": "python",
   "name": "python3"
  },
  "language_info": {
   "codemirror_mode": {
    "name": "ipython",
    "version": 3
   },
   "file_extension": ".py",
   "mimetype": "text/x-python",
   "name": "python",
   "nbconvert_exporter": "python",
   "pygments_lexer": "ipython3",
   "version": "3.8.13"
  },
  "orig_nbformat": 4,
  "vscode": {
   "interpreter": {
    "hash": "212529ebce2f0387ea161e99e46b8847747ab3db2200338c377e9fc9dca056e7"
   }
  }
 },
 "nbformat": 4,
 "nbformat_minor": 2
}
