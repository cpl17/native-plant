{
 "cells": [
  {
   "cell_type": "code",
   "execution_count": 20,
   "metadata": {},
   "outputs": [],
   "source": [
    "from selenium import webdriver\n",
    "from selenium.webdriver.support import expected_conditions as EC\n",
    "from selenium.webdriver.common.by import By\n",
    "from selenium.webdriver.support.ui import WebDriverWait\n",
    "from selenium.common.exceptions import TimeoutException\n",
    "from lxml.etree import ParserError\n",
    "import pandas as pd\n",
    "import itertools\n",
    "import numpy as np\n",
    "from sklearn.metrics import classification_report\n",
    "\n",
    "\n",
    "\n",
    "# Global Constansts\n",
    "PATH = \"C:\\Program Files (x86)\\chromedriver.exe\"\n",
    "BASE_URL = \"http://en.wikipedia.org/wiki/\"\n",
    "HEADERS = {\n",
    "    \"Accept-Language\": \"en-US,en;q=0.9\",\n",
    "    \"User-Agent\": \"Chrome/87.0.4280.141\"\n",
    "}\n",
    "DELAY = 10\n",
    "\n",
    "driver = webdriver.Chrome(executable_path=PATH)\n",
    "\n",
    "name = \"Agastache_foeniculum\"\n",
    "driver.get(BASE_URL + name)\n",
    "\n",
    "try:\n",
    "    WebDriverWait(driver, DELAY).until(EC.presence_of_element_located((By.TAG_NAME, \"table\")))\n",
    "    full_table_element = driver.find_element_by_class_name(\"mw-parser-output\")\n",
    "    df_list = pd.read_html(full_table_element.get_attribute(\"innerHTML\"))\n",
    "    data = df_list[0]\n",
    "\n",
    "except TimeoutException:\n",
    "    print(\"Time Error\")\n",
    "\n",
    "#Clean\n",
    "\n",
    "\n",
    "driver.close()"
   ]
  },
  {
   "cell_type": "code",
   "execution_count": 57,
   "metadata": {},
   "outputs": [],
   "source": [
    "classification_table = data.copy()"
   ]
  },
  {
   "cell_type": "code",
   "execution_count": 58,
   "metadata": {},
   "outputs": [
    {
     "data": {
      "text/html": [
       "<div>\n",
       "<style scoped>\n",
       "    .dataframe tbody tr th:only-of-type {\n",
       "        vertical-align: middle;\n",
       "    }\n",
       "\n",
       "    .dataframe tbody tr th {\n",
       "        vertical-align: top;\n",
       "    }\n",
       "\n",
       "    .dataframe thead th {\n",
       "        text-align: right;\n",
       "    }\n",
       "</style>\n",
       "<table border=\"1\" class=\"dataframe\">\n",
       "  <thead>\n",
       "    <tr style=\"text-align: right;\">\n",
       "      <th></th>\n",
       "      <th>Agastache foeniculum</th>\n",
       "    </tr>\n",
       "    <tr>\n",
       "      <th>Agastache foeniculum</th>\n",
       "      <th></th>\n",
       "    </tr>\n",
       "  </thead>\n",
       "  <tbody>\n",
       "    <tr>\n",
       "      <th>Kingdom</th>\n",
       "      <td>Plantae</td>\n",
       "    </tr>\n",
       "    <tr>\n",
       "      <th>Clade</th>\n",
       "      <td>Tracheophytes</td>\n",
       "    </tr>\n",
       "    <tr>\n",
       "      <th>Clade</th>\n",
       "      <td>Angiosperms</td>\n",
       "    </tr>\n",
       "    <tr>\n",
       "      <th>Clade</th>\n",
       "      <td>Eudicots</td>\n",
       "    </tr>\n",
       "    <tr>\n",
       "      <th>Clade</th>\n",
       "      <td>Asterids</td>\n",
       "    </tr>\n",
       "    <tr>\n",
       "      <th>Order</th>\n",
       "      <td>Lamiales</td>\n",
       "    </tr>\n",
       "    <tr>\n",
       "      <th>Family</th>\n",
       "      <td>Lamiaceae</td>\n",
       "    </tr>\n",
       "    <tr>\n",
       "      <th>Genus</th>\n",
       "      <td>Agastache</td>\n",
       "    </tr>\n",
       "    <tr>\n",
       "      <th>Species</th>\n",
       "      <td>A. foeniculum</td>\n",
       "    </tr>\n",
       "  </tbody>\n",
       "</table>\n",
       "</div>"
      ],
      "text/plain": [
       "                     Agastache foeniculum\n",
       "Agastache foeniculum                     \n",
       "Kingdom                           Plantae\n",
       "Clade                       Tracheophytes\n",
       "Clade                         Angiosperms\n",
       "Clade                            Eudicots\n",
       "Clade                            Asterids\n",
       "Order                            Lamiales\n",
       "Family                          Lamiaceae\n",
       "Genus                           Agastache\n",
       "Species                     A. foeniculum"
      ]
     },
     "execution_count": 58,
     "metadata": {},
     "output_type": "execute_result"
    }
   ],
   "source": [
    "classification_table.iloc[:,0] = classification_table.iloc[:,0].str.strip(\":\")\n",
    "classification_table = classification_table[classification_table[\"Agastache foeniculum\"].isin([\"Kingdom\",\"Order\",\"Family\",\"Clade\",\"Genus\",\"Species\"])]\n",
    "plant_name = classification_table.columns[0]\n",
    "classification_table.set_index(plant_name,inplace=True)\n",
    "classification_table.columns = [plant_name]\n",
    "classification_table"
   ]
  },
  {
   "cell_type": "code",
   "execution_count": 42,
   "metadata": {},
   "outputs": [],
   "source": [
    "number_of_clades = classification_table.index.value_counts()[\"Clade\"]\n"
   ]
  },
  {
   "cell_type": "code",
   "execution_count": 59,
   "metadata": {},
   "outputs": [
    {
     "data": {
      "text/html": [
       "<div>\n",
       "<style scoped>\n",
       "    .dataframe tbody tr th:only-of-type {\n",
       "        vertical-align: middle;\n",
       "    }\n",
       "\n",
       "    .dataframe tbody tr th {\n",
       "        vertical-align: top;\n",
       "    }\n",
       "\n",
       "    .dataframe thead th {\n",
       "        text-align: right;\n",
       "    }\n",
       "</style>\n",
       "<table border=\"1\" class=\"dataframe\">\n",
       "  <thead>\n",
       "    <tr style=\"text-align: right;\">\n",
       "      <th></th>\n",
       "      <th>Agastache foeniculum</th>\n",
       "    </tr>\n",
       "  </thead>\n",
       "  <tbody>\n",
       "    <tr>\n",
       "      <th>Kingdom</th>\n",
       "      <td>Plantae</td>\n",
       "    </tr>\n",
       "    <tr>\n",
       "      <th>Clade0</th>\n",
       "      <td>Tracheophytes</td>\n",
       "    </tr>\n",
       "    <tr>\n",
       "      <th>Clade1</th>\n",
       "      <td>Angiosperms</td>\n",
       "    </tr>\n",
       "    <tr>\n",
       "      <th>Clade2</th>\n",
       "      <td>Eudicots</td>\n",
       "    </tr>\n",
       "    <tr>\n",
       "      <th>Clade3</th>\n",
       "      <td>Asterids</td>\n",
       "    </tr>\n",
       "    <tr>\n",
       "      <th>Order</th>\n",
       "      <td>Lamiales</td>\n",
       "    </tr>\n",
       "    <tr>\n",
       "      <th>Family</th>\n",
       "      <td>Lamiaceae</td>\n",
       "    </tr>\n",
       "    <tr>\n",
       "      <th>Genus</th>\n",
       "      <td>Agastache</td>\n",
       "    </tr>\n",
       "    <tr>\n",
       "      <th>Species</th>\n",
       "      <td>A. foeniculum</td>\n",
       "    </tr>\n",
       "  </tbody>\n",
       "</table>\n",
       "</div>"
      ],
      "text/plain": [
       "        Agastache foeniculum\n",
       "Kingdom              Plantae\n",
       "Clade0         Tracheophytes\n",
       "Clade1           Angiosperms\n",
       "Clade2              Eudicots\n",
       "Clade3              Asterids\n",
       "Order               Lamiales\n",
       "Family             Lamiaceae\n",
       "Genus              Agastache\n",
       "Species        A. foeniculum"
      ]
     },
     "execution_count": 59,
     "metadata": {},
     "output_type": "execute_result"
    }
   ],
   "source": [
    "i = 0\n",
    "new_index = []\n",
    "for index_value in classification_table.index:\n",
    "    if index_value == \"Clade\":\n",
    "        new_index.append(index_value + str(i))\n",
    "        i+=1\n",
    "    else:\n",
    "        new_index.append(index_value)\n",
    "classification_table.index = pd.Index(new_index)\n",
    "classification_table\n"
   ]
  },
  {
   "cell_type": "code",
   "execution_count": 61,
   "metadata": {},
   "outputs": [
    {
     "data": {
      "text/plain": [
       "{'Agastache foeniculum': {'Kingdom': 'Plantae',\n",
       "  'Clade0': 'Tracheophytes',\n",
       "  'Clade1': 'Angiosperms',\n",
       "  'Clade2': 'Eudicots',\n",
       "  'Clade3': 'Asterids',\n",
       "  'Order': 'Lamiales',\n",
       "  'Family': 'Lamiaceae',\n",
       "  'Genus': 'Agastache',\n",
       "  'Species': 'A. foeniculum'}}"
      ]
     },
     "execution_count": 61,
     "metadata": {},
     "output_type": "execute_result"
    }
   ],
   "source": [
    "classification_table[plant_name] = classification_table[plant_name].apply(lambda x: x.replace(u'\\xa0', u' '))\n",
    "classification_table.to_dict()"
   ]
  }
 ],
 "metadata": {
  "interpreter": {
   "hash": "212529ebce2f0387ea161e99e46b8847747ab3db2200338c377e9fc9dca056e7"
  },
  "kernelspec": {
   "display_name": "Python 3.8.5 ('base')",
   "language": "python",
   "name": "python3"
  },
  "language_info": {
   "codemirror_mode": {
    "name": "ipython",
    "version": 3
   },
   "file_extension": ".py",
   "mimetype": "text/x-python",
   "name": "python",
   "nbconvert_exporter": "python",
   "pygments_lexer": "ipython3",
   "version": "3.8.5"
  },
  "orig_nbformat": 4
 },
 "nbformat": 4,
 "nbformat_minor": 2
}
